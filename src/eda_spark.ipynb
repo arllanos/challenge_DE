{
 "cells": [
  {
   "cell_type": "markdown",
   "metadata": {},
   "source": [
    "# Dataset Exploration & Analysis using Spark\n",
    "\n",
    "**IMPORTANTE**: Este es un Jupyter notebook complementario usado para explorar datos y validar resultados. Para la solucion oficial al Challenge referirse al notebook [challenge.ipynb](./challenge.ipynb).\n"
   ]
  },
  {
   "cell_type": "markdown",
   "metadata": {},
   "source": [
    "## Pre-requisitos\n",
    "\n",
    "\n",
    "1. Si Spark no está instalado, hacerlo siguiendo las instrucciones en el [sitio oficial de Spark](https://spark.apache.org/downloads.html)\n",
    "\n",
    "2. Asegurarse de actualizar las variables de entorno `SPARK_HOME` y `PATH`\n",
    "    ```bash\n",
    "    export SPARK_HOME=/path/to/spark\n",
    "    export PATH=$PATH:$SPARK_HOME/bin\n",
    "    ```\n",
    "\n",
    "1. Crear virtual environment (`.venv`) en el root directory e instalar todas las project dependencies.\n",
    "    ```sh\n",
    "    python3 -m venv .venv\n",
    "    source .venv/bin/activate\n",
    "    pip install -r requirements.txt\n",
    "    ```\n",
    "    \n",
    "4. Descargar y proveer los datos\n",
    "\n",
    "    Descarga manualmente https://drive.google.com/file/d/1ig2ngoXFTxP5Pa8muXo02mDTFexZzsis/view?usp=sharing, y extrae del archivo `.zip` el json file.\n",
    "    El archivo extraído debe ser copiado a la carpeta `data/`.\n",
    "\n",
    "\n",
    "**IMPORTANTE**: No es necesario hacer **3** y **4** si ya lo hizo como parte del setup indicado en el notebook [challenge.ipynb](./challenge.ipynb)"
   ]
  },
  {
   "cell_type": "markdown",
   "metadata": {},
   "source": [
    "## Initialization of Notebook and Variables"
   ]
  },
  {
   "cell_type": "code",
   "execution_count": 31,
   "metadata": {},
   "outputs": [
    {
     "name": "stdout",
     "output_type": "stream",
     "text": [
      "The autoreload extension is already loaded. To reload it, use:\n",
      "  %reload_ext autoreload\n"
     ]
    }
   ],
   "source": [
    "# enable the autoreload extension and configure it for automatic module's reload\n",
    "%load_ext autoreload\n",
    "%autoreload 2"
   ]
  },
  {
   "cell_type": "code",
   "execution_count": 32,
   "metadata": {},
   "outputs": [],
   "source": [
    "file_path = \"../data/farmers-protest-tweets-2021-2-4.json\""
   ]
  },
  {
   "cell_type": "markdown",
   "metadata": {},
   "source": [
    "## Start Spark Session"
   ]
  },
  {
   "cell_type": "code",
   "execution_count": 33,
   "metadata": {},
   "outputs": [],
   "source": [
    "from pyspark.sql import SparkSession\n",
    "\n",
    "spark = SparkSession.builder \\\n",
    "        .appName(\"Twitter Data Analysis\") \\\n",
    "        .getOrCreate()"
   ]
  },
  {
   "cell_type": "markdown",
   "metadata": {},
   "source": [
    "## Data Exploration"
   ]
  },
  {
   "cell_type": "code",
   "execution_count": 34,
   "metadata": {},
   "outputs": [],
   "source": [
    "df = spark.read.json(file_path)"
   ]
  },
  {
   "cell_type": "code",
   "execution_count": 35,
   "metadata": {},
   "outputs": [
    {
     "name": "stdout",
     "output_type": "stream",
     "text": [
      "root\n",
      " |-- content: string (nullable = true)\n",
      " |-- conversationId: long (nullable = true)\n",
      " |-- date: string (nullable = true)\n",
      " |-- id: long (nullable = true)\n",
      " |-- lang: string (nullable = true)\n",
      " |-- likeCount: long (nullable = true)\n",
      " |-- media: array (nullable = true)\n",
      " |    |-- element: struct (containsNull = true)\n",
      " |    |    |-- duration: double (nullable = true)\n",
      " |    |    |-- fullUrl: string (nullable = true)\n",
      " |    |    |-- previewUrl: string (nullable = true)\n",
      " |    |    |-- thumbnailUrl: string (nullable = true)\n",
      " |    |    |-- type: string (nullable = true)\n",
      " |    |    |-- variants: array (nullable = true)\n",
      " |    |    |    |-- element: struct (containsNull = true)\n",
      " |    |    |    |    |-- bitrate: long (nullable = true)\n",
      " |    |    |    |    |-- contentType: string (nullable = true)\n",
      " |    |    |    |    |-- url: string (nullable = true)\n",
      " |-- mentionedUsers: array (nullable = true)\n",
      " |    |-- element: struct (containsNull = true)\n",
      " |    |    |-- created: string (nullable = true)\n",
      " |    |    |-- description: string (nullable = true)\n",
      " |    |    |-- descriptionUrls: string (nullable = true)\n",
      " |    |    |-- displayname: string (nullable = true)\n",
      " |    |    |-- favouritesCount: string (nullable = true)\n",
      " |    |    |-- followersCount: string (nullable = true)\n",
      " |    |    |-- friendsCount: string (nullable = true)\n",
      " |    |    |-- id: long (nullable = true)\n",
      " |    |    |-- linkTcourl: string (nullable = true)\n",
      " |    |    |-- linkUrl: string (nullable = true)\n",
      " |    |    |-- listedCount: string (nullable = true)\n",
      " |    |    |-- location: string (nullable = true)\n",
      " |    |    |-- mediaCount: string (nullable = true)\n",
      " |    |    |-- profileBannerUrl: string (nullable = true)\n",
      " |    |    |-- profileImageUrl: string (nullable = true)\n",
      " |    |    |-- protected: string (nullable = true)\n",
      " |    |    |-- rawDescription: string (nullable = true)\n",
      " |    |    |-- statusesCount: string (nullable = true)\n",
      " |    |    |-- url: string (nullable = true)\n",
      " |    |    |-- username: string (nullable = true)\n",
      " |    |    |-- verified: string (nullable = true)\n",
      " |-- outlinks: array (nullable = true)\n",
      " |    |-- element: string (containsNull = true)\n",
      " |-- quoteCount: long (nullable = true)\n",
      " |-- quotedTweet: struct (nullable = true)\n",
      " |    |-- content: string (nullable = true)\n",
      " |    |-- conversationId: long (nullable = true)\n",
      " |    |-- date: string (nullable = true)\n",
      " |    |-- id: long (nullable = true)\n",
      " |    |-- lang: string (nullable = true)\n",
      " |    |-- likeCount: long (nullable = true)\n",
      " |    |-- media: array (nullable = true)\n",
      " |    |    |-- element: struct (containsNull = true)\n",
      " |    |    |    |-- duration: double (nullable = true)\n",
      " |    |    |    |-- fullUrl: string (nullable = true)\n",
      " |    |    |    |-- previewUrl: string (nullable = true)\n",
      " |    |    |    |-- thumbnailUrl: string (nullable = true)\n",
      " |    |    |    |-- type: string (nullable = true)\n",
      " |    |    |    |-- variants: array (nullable = true)\n",
      " |    |    |    |    |-- element: struct (containsNull = true)\n",
      " |    |    |    |    |    |-- bitrate: long (nullable = true)\n",
      " |    |    |    |    |    |-- contentType: string (nullable = true)\n",
      " |    |    |    |    |    |-- url: string (nullable = true)\n",
      " |    |-- mentionedUsers: array (nullable = true)\n",
      " |    |    |-- element: struct (containsNull = true)\n",
      " |    |    |    |-- created: string (nullable = true)\n",
      " |    |    |    |-- description: string (nullable = true)\n",
      " |    |    |    |-- descriptionUrls: string (nullable = true)\n",
      " |    |    |    |-- displayname: string (nullable = true)\n",
      " |    |    |    |-- favouritesCount: string (nullable = true)\n",
      " |    |    |    |-- followersCount: string (nullable = true)\n",
      " |    |    |    |-- friendsCount: string (nullable = true)\n",
      " |    |    |    |-- id: long (nullable = true)\n",
      " |    |    |    |-- linkTcourl: string (nullable = true)\n",
      " |    |    |    |-- linkUrl: string (nullable = true)\n",
      " |    |    |    |-- listedCount: string (nullable = true)\n",
      " |    |    |    |-- location: string (nullable = true)\n",
      " |    |    |    |-- mediaCount: string (nullable = true)\n",
      " |    |    |    |-- profileBannerUrl: string (nullable = true)\n",
      " |    |    |    |-- profileImageUrl: string (nullable = true)\n",
      " |    |    |    |-- protected: string (nullable = true)\n",
      " |    |    |    |-- rawDescription: string (nullable = true)\n",
      " |    |    |    |-- statusesCount: string (nullable = true)\n",
      " |    |    |    |-- url: string (nullable = true)\n",
      " |    |    |    |-- username: string (nullable = true)\n",
      " |    |    |    |-- verified: string (nullable = true)\n",
      " |    |-- outlinks: array (nullable = true)\n",
      " |    |    |-- element: string (containsNull = true)\n",
      " |    |-- quoteCount: long (nullable = true)\n",
      " |    |-- quotedTweet: struct (nullable = true)\n",
      " |    |    |-- content: string (nullable = true)\n",
      " |    |    |-- conversationId: long (nullable = true)\n",
      " |    |    |-- date: string (nullable = true)\n",
      " |    |    |-- id: long (nullable = true)\n",
      " |    |    |-- lang: string (nullable = true)\n",
      " |    |    |-- likeCount: long (nullable = true)\n",
      " |    |    |-- media: array (nullable = true)\n",
      " |    |    |    |-- element: struct (containsNull = true)\n",
      " |    |    |    |    |-- duration: double (nullable = true)\n",
      " |    |    |    |    |-- fullUrl: string (nullable = true)\n",
      " |    |    |    |    |-- previewUrl: string (nullable = true)\n",
      " |    |    |    |    |-- thumbnailUrl: string (nullable = true)\n",
      " |    |    |    |    |-- type: string (nullable = true)\n",
      " |    |    |    |    |-- variants: array (nullable = true)\n",
      " |    |    |    |    |    |-- element: struct (containsNull = true)\n",
      " |    |    |    |    |    |    |-- bitrate: long (nullable = true)\n",
      " |    |    |    |    |    |    |-- contentType: string (nullable = true)\n",
      " |    |    |    |    |    |    |-- url: string (nullable = true)\n",
      " |    |    |-- mentionedUsers: array (nullable = true)\n",
      " |    |    |    |-- element: struct (containsNull = true)\n",
      " |    |    |    |    |-- created: string (nullable = true)\n",
      " |    |    |    |    |-- description: string (nullable = true)\n",
      " |    |    |    |    |-- descriptionUrls: string (nullable = true)\n",
      " |    |    |    |    |-- displayname: string (nullable = true)\n",
      " |    |    |    |    |-- favouritesCount: string (nullable = true)\n",
      " |    |    |    |    |-- followersCount: string (nullable = true)\n",
      " |    |    |    |    |-- friendsCount: string (nullable = true)\n",
      " |    |    |    |    |-- id: long (nullable = true)\n",
      " |    |    |    |    |-- linkTcourl: string (nullable = true)\n",
      " |    |    |    |    |-- linkUrl: string (nullable = true)\n",
      " |    |    |    |    |-- listedCount: string (nullable = true)\n",
      " |    |    |    |    |-- location: string (nullable = true)\n",
      " |    |    |    |    |-- mediaCount: string (nullable = true)\n",
      " |    |    |    |    |-- profileBannerUrl: string (nullable = true)\n",
      " |    |    |    |    |-- profileImageUrl: string (nullable = true)\n",
      " |    |    |    |    |-- protected: string (nullable = true)\n",
      " |    |    |    |    |-- rawDescription: string (nullable = true)\n",
      " |    |    |    |    |-- statusesCount: string (nullable = true)\n",
      " |    |    |    |    |-- url: string (nullable = true)\n",
      " |    |    |    |    |-- username: string (nullable = true)\n",
      " |    |    |    |    |-- verified: string (nullable = true)\n",
      " |    |    |-- outlinks: array (nullable = true)\n",
      " |    |    |    |-- element: string (containsNull = true)\n",
      " |    |    |-- quoteCount: long (nullable = true)\n",
      " |    |    |-- quotedTweet: struct (nullable = true)\n",
      " |    |    |    |-- content: string (nullable = true)\n",
      " |    |    |    |-- conversationId: long (nullable = true)\n",
      " |    |    |    |-- date: string (nullable = true)\n",
      " |    |    |    |-- id: long (nullable = true)\n",
      " |    |    |    |-- lang: string (nullable = true)\n",
      " |    |    |    |-- likeCount: long (nullable = true)\n",
      " |    |    |    |-- media: array (nullable = true)\n",
      " |    |    |    |    |-- element: struct (containsNull = true)\n",
      " |    |    |    |    |    |-- duration: double (nullable = true)\n",
      " |    |    |    |    |    |-- fullUrl: string (nullable = true)\n",
      " |    |    |    |    |    |-- previewUrl: string (nullable = true)\n",
      " |    |    |    |    |    |-- thumbnailUrl: string (nullable = true)\n",
      " |    |    |    |    |    |-- type: string (nullable = true)\n",
      " |    |    |    |    |    |-- variants: array (nullable = true)\n",
      " |    |    |    |    |    |    |-- element: struct (containsNull = true)\n",
      " |    |    |    |    |    |    |    |-- bitrate: long (nullable = true)\n",
      " |    |    |    |    |    |    |    |-- contentType: string (nullable = true)\n",
      " |    |    |    |    |    |    |    |-- url: string (nullable = true)\n",
      " |    |    |    |-- mentionedUsers: array (nullable = true)\n",
      " |    |    |    |    |-- element: struct (containsNull = true)\n",
      " |    |    |    |    |    |-- created: string (nullable = true)\n",
      " |    |    |    |    |    |-- description: string (nullable = true)\n",
      " |    |    |    |    |    |-- descriptionUrls: string (nullable = true)\n",
      " |    |    |    |    |    |-- displayname: string (nullable = true)\n",
      " |    |    |    |    |    |-- favouritesCount: string (nullable = true)\n",
      " |    |    |    |    |    |-- followersCount: string (nullable = true)\n",
      " |    |    |    |    |    |-- friendsCount: string (nullable = true)\n",
      " |    |    |    |    |    |-- id: long (nullable = true)\n",
      " |    |    |    |    |    |-- linkTcourl: string (nullable = true)\n",
      " |    |    |    |    |    |-- linkUrl: string (nullable = true)\n",
      " |    |    |    |    |    |-- listedCount: string (nullable = true)\n",
      " |    |    |    |    |    |-- location: string (nullable = true)\n",
      " |    |    |    |    |    |-- mediaCount: string (nullable = true)\n",
      " |    |    |    |    |    |-- profileBannerUrl: string (nullable = true)\n",
      " |    |    |    |    |    |-- profileImageUrl: string (nullable = true)\n",
      " |    |    |    |    |    |-- protected: string (nullable = true)\n",
      " |    |    |    |    |    |-- rawDescription: string (nullable = true)\n",
      " |    |    |    |    |    |-- statusesCount: string (nullable = true)\n",
      " |    |    |    |    |    |-- url: string (nullable = true)\n",
      " |    |    |    |    |    |-- username: string (nullable = true)\n",
      " |    |    |    |    |    |-- verified: string (nullable = true)\n",
      " |    |    |    |-- outlinks: array (nullable = true)\n",
      " |    |    |    |    |-- element: string (containsNull = true)\n",
      " |    |    |    |-- quoteCount: long (nullable = true)\n",
      " |    |    |    |-- quotedTweet: string (nullable = true)\n",
      " |    |    |    |-- renderedContent: string (nullable = true)\n",
      " |    |    |    |-- replyCount: long (nullable = true)\n",
      " |    |    |    |-- retweetCount: long (nullable = true)\n",
      " |    |    |    |-- retweetedTweet: string (nullable = true)\n",
      " |    |    |    |-- source: string (nullable = true)\n",
      " |    |    |    |-- sourceLabel: string (nullable = true)\n",
      " |    |    |    |-- sourceUrl: string (nullable = true)\n",
      " |    |    |    |-- tcooutlinks: array (nullable = true)\n",
      " |    |    |    |    |-- element: string (containsNull = true)\n",
      " |    |    |    |-- url: string (nullable = true)\n",
      " |    |    |    |-- user: struct (nullable = true)\n",
      " |    |    |    |    |-- created: string (nullable = true)\n",
      " |    |    |    |    |-- description: string (nullable = true)\n",
      " |    |    |    |    |-- descriptionUrls: array (nullable = true)\n",
      " |    |    |    |    |    |-- element: string (containsNull = true)\n",
      " |    |    |    |    |-- displayname: string (nullable = true)\n",
      " |    |    |    |    |-- favouritesCount: long (nullable = true)\n",
      " |    |    |    |    |-- followersCount: long (nullable = true)\n",
      " |    |    |    |    |-- friendsCount: long (nullable = true)\n",
      " |    |    |    |    |-- id: long (nullable = true)\n",
      " |    |    |    |    |-- linkTcourl: string (nullable = true)\n",
      " |    |    |    |    |-- linkUrl: string (nullable = true)\n",
      " |    |    |    |    |-- listedCount: long (nullable = true)\n",
      " |    |    |    |    |-- location: string (nullable = true)\n",
      " |    |    |    |    |-- mediaCount: long (nullable = true)\n",
      " |    |    |    |    |-- profileBannerUrl: string (nullable = true)\n",
      " |    |    |    |    |-- profileImageUrl: string (nullable = true)\n",
      " |    |    |    |    |-- protected: boolean (nullable = true)\n",
      " |    |    |    |    |-- rawDescription: string (nullable = true)\n",
      " |    |    |    |    |-- statusesCount: long (nullable = true)\n",
      " |    |    |    |    |-- url: string (nullable = true)\n",
      " |    |    |    |    |-- username: string (nullable = true)\n",
      " |    |    |    |    |-- verified: boolean (nullable = true)\n",
      " |    |    |-- renderedContent: string (nullable = true)\n",
      " |    |    |-- replyCount: long (nullable = true)\n",
      " |    |    |-- retweetCount: long (nullable = true)\n",
      " |    |    |-- retweetedTweet: string (nullable = true)\n",
      " |    |    |-- source: string (nullable = true)\n",
      " |    |    |-- sourceLabel: string (nullable = true)\n",
      " |    |    |-- sourceUrl: string (nullable = true)\n",
      " |    |    |-- tcooutlinks: array (nullable = true)\n",
      " |    |    |    |-- element: string (containsNull = true)\n",
      " |    |    |-- url: string (nullable = true)\n",
      " |    |    |-- user: struct (nullable = true)\n",
      " |    |    |    |-- created: string (nullable = true)\n",
      " |    |    |    |-- description: string (nullable = true)\n",
      " |    |    |    |-- descriptionUrls: array (nullable = true)\n",
      " |    |    |    |    |-- element: struct (containsNull = true)\n",
      " |    |    |    |    |    |-- indices: array (nullable = true)\n",
      " |    |    |    |    |    |    |-- element: long (containsNull = true)\n",
      " |    |    |    |    |    |-- tcourl: string (nullable = true)\n",
      " |    |    |    |    |    |-- text: string (nullable = true)\n",
      " |    |    |    |    |    |-- url: string (nullable = true)\n",
      " |    |    |    |-- displayname: string (nullable = true)\n",
      " |    |    |    |-- favouritesCount: long (nullable = true)\n",
      " |    |    |    |-- followersCount: long (nullable = true)\n",
      " |    |    |    |-- friendsCount: long (nullable = true)\n",
      " |    |    |    |-- id: long (nullable = true)\n",
      " |    |    |    |-- linkTcourl: string (nullable = true)\n",
      " |    |    |    |-- linkUrl: string (nullable = true)\n",
      " |    |    |    |-- listedCount: long (nullable = true)\n",
      " |    |    |    |-- location: string (nullable = true)\n",
      " |    |    |    |-- mediaCount: long (nullable = true)\n",
      " |    |    |    |-- profileBannerUrl: string (nullable = true)\n",
      " |    |    |    |-- profileImageUrl: string (nullable = true)\n",
      " |    |    |    |-- protected: boolean (nullable = true)\n",
      " |    |    |    |-- rawDescription: string (nullable = true)\n",
      " |    |    |    |-- statusesCount: long (nullable = true)\n",
      " |    |    |    |-- url: string (nullable = true)\n",
      " |    |    |    |-- username: string (nullable = true)\n",
      " |    |    |    |-- verified: boolean (nullable = true)\n",
      " |    |-- renderedContent: string (nullable = true)\n",
      " |    |-- replyCount: long (nullable = true)\n",
      " |    |-- retweetCount: long (nullable = true)\n",
      " |    |-- retweetedTweet: string (nullable = true)\n",
      " |    |-- source: string (nullable = true)\n",
      " |    |-- sourceLabel: string (nullable = true)\n",
      " |    |-- sourceUrl: string (nullable = true)\n",
      " |    |-- tcooutlinks: array (nullable = true)\n",
      " |    |    |-- element: string (containsNull = true)\n",
      " |    |-- url: string (nullable = true)\n",
      " |    |-- user: struct (nullable = true)\n",
      " |    |    |-- created: string (nullable = true)\n",
      " |    |    |-- description: string (nullable = true)\n",
      " |    |    |-- descriptionUrls: array (nullable = true)\n",
      " |    |    |    |-- element: struct (containsNull = true)\n",
      " |    |    |    |    |-- indices: array (nullable = true)\n",
      " |    |    |    |    |    |-- element: long (containsNull = true)\n",
      " |    |    |    |    |-- tcourl: string (nullable = true)\n",
      " |    |    |    |    |-- text: string (nullable = true)\n",
      " |    |    |    |    |-- url: string (nullable = true)\n",
      " |    |    |-- displayname: string (nullable = true)\n",
      " |    |    |-- favouritesCount: long (nullable = true)\n",
      " |    |    |-- followersCount: long (nullable = true)\n",
      " |    |    |-- friendsCount: long (nullable = true)\n",
      " |    |    |-- id: long (nullable = true)\n",
      " |    |    |-- linkTcourl: string (nullable = true)\n",
      " |    |    |-- linkUrl: string (nullable = true)\n",
      " |    |    |-- listedCount: long (nullable = true)\n",
      " |    |    |-- location: string (nullable = true)\n",
      " |    |    |-- mediaCount: long (nullable = true)\n",
      " |    |    |-- profileBannerUrl: string (nullable = true)\n",
      " |    |    |-- profileImageUrl: string (nullable = true)\n",
      " |    |    |-- protected: boolean (nullable = true)\n",
      " |    |    |-- rawDescription: string (nullable = true)\n",
      " |    |    |-- statusesCount: long (nullable = true)\n",
      " |    |    |-- url: string (nullable = true)\n",
      " |    |    |-- username: string (nullable = true)\n",
      " |    |    |-- verified: boolean (nullable = true)\n",
      " |-- renderedContent: string (nullable = true)\n",
      " |-- replyCount: long (nullable = true)\n",
      " |-- retweetCount: long (nullable = true)\n",
      " |-- retweetedTweet: string (nullable = true)\n",
      " |-- source: string (nullable = true)\n",
      " |-- sourceLabel: string (nullable = true)\n",
      " |-- sourceUrl: string (nullable = true)\n",
      " |-- tcooutlinks: array (nullable = true)\n",
      " |    |-- element: string (containsNull = true)\n",
      " |-- url: string (nullable = true)\n",
      " |-- user: struct (nullable = true)\n",
      " |    |-- created: string (nullable = true)\n",
      " |    |-- description: string (nullable = true)\n",
      " |    |-- descriptionUrls: array (nullable = true)\n",
      " |    |    |-- element: struct (containsNull = true)\n",
      " |    |    |    |-- indices: array (nullable = true)\n",
      " |    |    |    |    |-- element: long (containsNull = true)\n",
      " |    |    |    |-- tcourl: string (nullable = true)\n",
      " |    |    |    |-- text: string (nullable = true)\n",
      " |    |    |    |-- url: string (nullable = true)\n",
      " |    |-- displayname: string (nullable = true)\n",
      " |    |-- favouritesCount: long (nullable = true)\n",
      " |    |-- followersCount: long (nullable = true)\n",
      " |    |-- friendsCount: long (nullable = true)\n",
      " |    |-- id: long (nullable = true)\n",
      " |    |-- linkTcourl: string (nullable = true)\n",
      " |    |-- linkUrl: string (nullable = true)\n",
      " |    |-- listedCount: long (nullable = true)\n",
      " |    |-- location: string (nullable = true)\n",
      " |    |-- mediaCount: long (nullable = true)\n",
      " |    |-- profileBannerUrl: string (nullable = true)\n",
      " |    |-- profileImageUrl: string (nullable = true)\n",
      " |    |-- protected: boolean (nullable = true)\n",
      " |    |-- rawDescription: string (nullable = true)\n",
      " |    |-- statusesCount: long (nullable = true)\n",
      " |    |-- url: string (nullable = true)\n",
      " |    |-- username: string (nullable = true)\n",
      " |    |-- verified: boolean (nullable = true)\n",
      "\n"
     ]
    }
   ],
   "source": [
    "df.printSchema()"
   ]
  },
  {
   "cell_type": "code",
   "execution_count": 36,
   "metadata": {},
   "outputs": [
    {
     "name": "stdout",
     "output_type": "stream",
     "text": [
      "+--------------------+-------------------+--------------------+-------------------+----+---------+--------------------+--------------------+--------------------+----------+--------------------+--------------------+----------+------------+--------------+--------------------+-------------------+--------------------+--------------------+--------------------+--------------------+\n",
      "|             content|     conversationId|                date|                 id|lang|likeCount|               media|      mentionedUsers|            outlinks|quoteCount|         quotedTweet|     renderedContent|replyCount|retweetCount|retweetedTweet|              source|        sourceLabel|           sourceUrl|         tcooutlinks|                 url|                user|\n",
      "+--------------------+-------------------+--------------------+-------------------+----+---------+--------------------+--------------------+--------------------+----------+--------------------+--------------------+----------+------------+--------------+--------------------+-------------------+--------------------+--------------------+--------------------+--------------------+\n",
      "|The world progres...|1364506249291784198|2021-02-24T09:23:...|1364506249291784198|  en|        0|                NULL|[{NULL, NULL, NUL...|[https://twitter....|         0|{This is what the...|The world progres...|         0|           0|          NULL|<a href=\"http://t...| Twitter for iPhone|http://twitter.co...|[https://t.co/es3...|https://twitter.c...|{2009-06-06T07:50...|\n",
      "|#FarmersProtest \\...|1364506237451313155|2021-02-24T09:23:...|1364506237451313155|  en|        0|[{139.934, NULL, ...|[{NULL, NULL, NUL...|                  []|         0|                NULL|#FarmersProtest \\...|         0|           0|          NULL|<a href=\"http://t...|Twitter for Android|http://twitter.co...|                  []|https://twitter.c...|{2021-01-29T09:58...|\n",
      "|ਪੈਟਰੋਲ ਦੀਆਂ ਕੀਮਤਾ...|1364506195453767680|2021-02-24T09:23:...|1364506195453767680|  pa|        0|                NULL|                NULL|                  []|         0|                NULL|ਪੈਟਰੋਲ ਦੀਆਂ ਕੀਮਤਾ...|         0|           0|          NULL|<a href=\"http://t...|Twitter for Android|http://twitter.co...|                  []|https://twitter.c...|{2012-01-27T17:30...|\n",
      "|@ReallySwara @roh...|1364350947099484160|2021-02-24T09:23:...|1364506167226032128|  en|        0|[{46.375, NULL, N...|[{NULL, NULL, NUL...|[https://youtu.be...|         0|                NULL|@ReallySwara @roh...|         0|           0|          NULL|<a href=\"https://...|    Twitter Web App|https://mobile.tw...|[https://t.co/wBP...|https://twitter.c...|{2010-04-28T03:12...|\n",
      "|#KisanEktaMorcha ...|1364506144002088963|2021-02-24T09:23:...|1364506144002088963| und|        0|[{NULL, https://p...|                NULL|                  []|         0|                NULL|#KisanEktaMorcha ...|         0|           0|          NULL|<a href=\"http://t...| Twitter for iPhone|http://twitter.co...|                  []|https://twitter.c...|{2021-02-08T14:35...|\n",
      "|Jai jwaan jai kis...|1364506120497360896|2021-02-24T09:23:...|1364506120497360896|  hi|        0|                NULL|                NULL|[https://twitter....|         0|{किसान आंदोलन\\nअब...|Jai jwaan jai kis...|         0|           0|          NULL|<a href=\"http://t...| Twitter for iPhone|http://twitter.co...|[https://t.co/LXi...|https://twitter.c...|{2020-12-01T05:11...|\n",
      "|     #FarmersProtest|1364506076272496640|2021-02-24T09:22:...|1364506076272496640| und|        0|                NULL|                NULL|                  []|         0|                NULL|     #FarmersProtest|         0|           0|          NULL|<a href=\"http://t...|Twitter for Android|http://twitter.co...|                  []|https://twitter.c...|{2020-12-02T06:05...|\n",
      "|#ModiDontSellFarm...|1364505995859423234|2021-02-24T09:22:...|1364505995859423234| und|        0|                NULL|                NULL|[https://twitter....|         0|{The @sikhchannel...|#ModiDontSellFarm...|         0|           0|          NULL|<a href=\"https://...|    Twitter Web App|https://mobile.tw...|[https://t.co/uGQ...|https://twitter.c...|{2009-05-25T17:16...|\n",
      "|@mandeeppunia1 wa...|1364428985074032646|2021-02-24T09:22:...|1364505991887347714|  en|        0|[{46.375, NULL, N...|[{NULL, NULL, NUL...|[https://youtu.be...|         0|                NULL|@mandeeppunia1 wa...|         0|           0|          NULL|<a href=\"https://...|    Twitter Web App|https://mobile.tw...|[https://t.co/wBP...|https://twitter.c...|{2010-04-28T03:12...|\n",
      "|#FarmersProtest h...|1364505896576053248|2021-02-24T09:22:...|1364505896576053248| und|        0|                NULL|                NULL|[https://twitter....|         0|{I want to thank ...|#FarmersProtest t...|         0|           0|          NULL|<a href=\"http://t...| Twitter for iPhone|http://twitter.co...|[https://t.co/ehd...|https://twitter.c...|{2013-06-04T19:35...|\n",
      "|கோதுமைப் பயிர்களை...|1364505892612268032|2021-02-24T09:22:...|1364505892612268032|  ta|        1|[{NULL, https://p...|                NULL|                  []|         0|                NULL|கோதுமைப் பயிர்களை...|         0|           1|          NULL|<a href=\"https://...|          TweetDeck|https://about.twi...|                  []|https://twitter.c...|{2011-12-08T00:36...|\n",
      "|@mandeeppunia1 wa...|1364480983995584515|2021-02-24T09:21:...|1364505813834989568|  en|        0|[{46.375, NULL, N...|[{NULL, NULL, NUL...|[https://youtu.be...|         0|                NULL|@mandeeppunia1 wa...|         0|           0|          NULL|<a href=\"https://...|    Twitter Web App|https://mobile.tw...|[https://t.co/wBP...|https://twitter.c...|{2010-04-28T03:12...|\n",
      "|Another farmer, M...|1364505749359976448|2021-02-24T09:21:...|1364505749359976448|  en|        3|[{NULL, https://p...|                NULL|                  []|         0|                NULL|Another farmer, M...|         0|           3|          NULL|<a href=\"http://t...|Twitter for Android|http://twitter.co...|                  []|https://twitter.c...|{2021-02-18T19:41...|\n",
      "|Jai kissan #Farme...|1364505737695739906|2021-02-24T09:21:...|1364505737695739906|  hu|        0|                NULL|                NULL|[https://twitter....|         0|{the farmer is th...|Jai kissan #Farme...|         0|           0|          NULL|<a href=\"http://t...| Twitter for iPhone|http://twitter.co...|[https://t.co/udq...|https://twitter.c...|{2020-12-01T05:11...|\n",
      "|#FarmersProtest h...|1364505706804744192|2021-02-24T09:21:...|1364505706804744192| und|        0|[{NULL, https://p...|                NULL|                  []|         0|                NULL|#FarmersProtest h...|         0|           0|          NULL|<a href=\"https://...|    Twitter Web App|https://mobile.tw...|                  []|https://twitter.c...|{2012-06-17T11:37...|\n",
      "|ਸਰਕਾਰੇ ਨੀ ਤੇਰੇ ਕੰ...|1364505702715154439|2021-02-24T09:21:...|1364505702715154439|  pa|        0|[{29.933, NULL, N...|                NULL|                  []|         0|                NULL|ਸਰਕਾਰੇ ਨੀ ਤੇਰੇ ਕੰ...|         0|           0|          NULL|<a href=\"http://t...|Twitter for Android|http://twitter.co...|                  []|https://twitter.c...|{2020-11-29T01:54...|\n",
      "|@akshaykumar Hi c...|1362301243708698631|2021-02-24T09:21:...|1364505676375076867|  en|        0|                NULL|[{NULL, NULL, NUL...|                  []|         0|                NULL|@akshaykumar Hi c...|         0|           0|          NULL|<a href=\"http://t...|Twitter for Android|http://twitter.co...|                  []|https://twitter.c...|{2012-03-27T23:14...|\n",
      "|#ModiDontSellFarm...|1364505591641735170|2021-02-24T09:20:...|1364505591641735170| und|        0|                NULL|                NULL|[https://twitter....|         0|{After railways, ...|#ModiDontSellFarm...|         0|           0|          NULL|<a href=\"http://t...| Twitter for iPhone|http://twitter.co...|[https://t.co/rBl...|https://twitter.c...|{2009-06-06T07:50...|\n",
      "|@taapsee watch fu...|1364427910053003270|2021-02-24T09:20:...|1364505511073300481|  en|        0|[{46.375, NULL, N...|[{NULL, NULL, NUL...|[https://youtu.be...|         0|                NULL|@taapsee watch fu...|         0|           0|          NULL|<a href=\"https://...|    Twitter Web App|https://mobile.tw...|[https://t.co/wBP...|https://twitter.c...|{2010-04-28T03:12...|\n",
      "|#FarmersProtest h...|1364505462419447810|2021-02-24T09:20:...|1364505462419447810| und|        0|                NULL|                NULL|[https://twitter....|         0|{Dear folks in Lo...|#FarmersProtest t...|         0|           0|          NULL|<a href=\"https://...|    Twitter Web App|https://mobile.tw...|[https://t.co/8Oe...|https://twitter.c...|{2009-05-25T17:16...|\n",
      "+--------------------+-------------------+--------------------+-------------------+----+---------+--------------------+--------------------+--------------------+----------+--------------------+--------------------+----------+------------+--------------+--------------------+-------------------+--------------------+--------------------+--------------------+--------------------+\n",
      "only showing top 20 rows\n",
      "\n"
     ]
    }
   ],
   "source": [
    "df.show()"
   ]
  },
  {
   "cell_type": "code",
   "execution_count": 37,
   "metadata": {},
   "outputs": [
    {
     "name": "stdout",
     "output_type": "stream",
     "text": [
      "+--------------------+-------------------+--------------------+-------------------+----+---------+--------------------+--------------------+--------------------+----------+--------------------+--------------------+----------+------------+--------------+--------------------+-------------------+--------------------+--------------------+--------------------+--------------------+\n",
      "|             content|     conversationId|                date|                 id|lang|likeCount|               media|      mentionedUsers|            outlinks|quoteCount|         quotedTweet|     renderedContent|replyCount|retweetCount|retweetedTweet|              source|        sourceLabel|           sourceUrl|         tcooutlinks|                 url|                user|\n",
      "+--------------------+-------------------+--------------------+-------------------+----+---------+--------------------+--------------------+--------------------+----------+--------------------+--------------------+----------+------------+--------------+--------------------+-------------------+--------------------+--------------------+--------------------+--------------------+\n",
      "|The world progres...|1364506249291784198|2021-02-24T09:23:...|1364506249291784198|  en|        0|                NULL|[{NULL, NULL, NUL...|[https://twitter....|         0|{This is what the...|The world progres...|         0|           0|          NULL|<a href=\"http://t...| Twitter for iPhone|http://twitter.co...|[https://t.co/es3...|https://twitter.c...|{2009-06-06T07:50...|\n",
      "|#FarmersProtest \\...|1364506237451313155|2021-02-24T09:23:...|1364506237451313155|  en|        0|[{139.934, NULL, ...|[{NULL, NULL, NUL...|                  []|         0|                NULL|#FarmersProtest \\...|         0|           0|          NULL|<a href=\"http://t...|Twitter for Android|http://twitter.co...|                  []|https://twitter.c...|{2021-01-29T09:58...|\n",
      "|ਪੈਟਰੋਲ ਦੀਆਂ ਕੀਮਤਾ...|1364506195453767680|2021-02-24T09:23:...|1364506195453767680|  pa|        0|                NULL|                NULL|                  []|         0|                NULL|ਪੈਟਰੋਲ ਦੀਆਂ ਕੀਮਤਾ...|         0|           0|          NULL|<a href=\"http://t...|Twitter for Android|http://twitter.co...|                  []|https://twitter.c...|{2012-01-27T17:30...|\n",
      "|@ReallySwara @roh...|1364350947099484160|2021-02-24T09:23:...|1364506167226032128|  en|        0|[{46.375, NULL, N...|[{NULL, NULL, NUL...|[https://youtu.be...|         0|                NULL|@ReallySwara @roh...|         0|           0|          NULL|<a href=\"https://...|    Twitter Web App|https://mobile.tw...|[https://t.co/wBP...|https://twitter.c...|{2010-04-28T03:12...|\n",
      "|#KisanEktaMorcha ...|1364506144002088963|2021-02-24T09:23:...|1364506144002088963| und|        0|[{NULL, https://p...|                NULL|                  []|         0|                NULL|#KisanEktaMorcha ...|         0|           0|          NULL|<a href=\"http://t...| Twitter for iPhone|http://twitter.co...|                  []|https://twitter.c...|{2021-02-08T14:35...|\n",
      "|Jai jwaan jai kis...|1364506120497360896|2021-02-24T09:23:...|1364506120497360896|  hi|        0|                NULL|                NULL|[https://twitter....|         0|{किसान आंदोलन\\nअब...|Jai jwaan jai kis...|         0|           0|          NULL|<a href=\"http://t...| Twitter for iPhone|http://twitter.co...|[https://t.co/LXi...|https://twitter.c...|{2020-12-01T05:11...|\n",
      "|     #FarmersProtest|1364506076272496640|2021-02-24T09:22:...|1364506076272496640| und|        0|                NULL|                NULL|                  []|         0|                NULL|     #FarmersProtest|         0|           0|          NULL|<a href=\"http://t...|Twitter for Android|http://twitter.co...|                  []|https://twitter.c...|{2020-12-02T06:05...|\n",
      "|#ModiDontSellFarm...|1364505995859423234|2021-02-24T09:22:...|1364505995859423234| und|        0|                NULL|                NULL|[https://twitter....|         0|{The @sikhchannel...|#ModiDontSellFarm...|         0|           0|          NULL|<a href=\"https://...|    Twitter Web App|https://mobile.tw...|[https://t.co/uGQ...|https://twitter.c...|{2009-05-25T17:16...|\n",
      "|@mandeeppunia1 wa...|1364428985074032646|2021-02-24T09:22:...|1364505991887347714|  en|        0|[{46.375, NULL, N...|[{NULL, NULL, NUL...|[https://youtu.be...|         0|                NULL|@mandeeppunia1 wa...|         0|           0|          NULL|<a href=\"https://...|    Twitter Web App|https://mobile.tw...|[https://t.co/wBP...|https://twitter.c...|{2010-04-28T03:12...|\n",
      "|#FarmersProtest h...|1364505896576053248|2021-02-24T09:22:...|1364505896576053248| und|        0|                NULL|                NULL|[https://twitter....|         0|{I want to thank ...|#FarmersProtest t...|         0|           0|          NULL|<a href=\"http://t...| Twitter for iPhone|http://twitter.co...|[https://t.co/ehd...|https://twitter.c...|{2013-06-04T19:35...|\n",
      "+--------------------+-------------------+--------------------+-------------------+----+---------+--------------------+--------------------+--------------------+----------+--------------------+--------------------+----------+------------+--------------+--------------------+-------------------+--------------------+--------------------+--------------------+--------------------+\n",
      "\n"
     ]
    }
   ],
   "source": [
    "df.createOrReplaceTempView(\"tweets\")\n",
    "spark.sql(\"SELECT * FROM tweets LIMIT 10\").show()"
   ]
  },
  {
   "cell_type": "code",
   "execution_count": 38,
   "metadata": {},
   "outputs": [],
   "source": [
    "df_mentioned = spark.sql(\"\"\"\n",
    "            SELECT id, retweetedTweet, content, mentioned.username AS username\n",
    "            FROM tweets\n",
    "            LATERAL VIEW explode(mentionedUsers) t AS mentioned\n",
    "            WHERE mentioned.username = 'meenaharris'\n",
    "            ORDER BY id\n",
    "          \"\"\"\n",
    "          )"
   ]
  },
  {
   "cell_type": "code",
   "execution_count": 39,
   "metadata": {},
   "outputs": [
    {
     "name": "stdout",
     "output_type": "stream",
     "text": [
      "+-------------------+--------------+------------------------------------------------------------------------------------------------------------------------------------------------------------------------------------------------------------------------------------------------------------------------------------------------------------------------------------+-----------+\n",
      "|id                 |retweetedTweet|content                                                                                                                                                                                                                                                                                                                             |username   |\n",
      "+-------------------+--------------+------------------------------------------------------------------------------------------------------------------------------------------------------------------------------------------------------------------------------------------------------------------------------------------------------------------------------------+-----------+\n",
      "|1360041007350312964|NULL          |https://t.co/VhxBBQnUCF\\n\\n#FarmersProtest \\n@MahuaMoitra \\n@RaviSinghKA \\n@kaushikcbasu \\n@meenaharris \\n@rupikaur_ \\n@sushant_says \\n@bajwasonam \\n@diljitdosanjh \\n@_garrywalia                                                                                                                                                  |meenaharris|\n",
      "|1360046479705071616|NULL          |First MahaPanchayat in Punjab (Jagraon) #Jagraon #Punjab #FarmersProtest #IStandWithFarmers #KisanMahapanchayat #KisanMajdoorEktaZindabaad @rihanna @AmandaCerny @miakhalifa @meenaharris @BalBrach @diljitdosanjh @GretaThunberg https://t.co/APr0MzLSW8                                                                           |meenaharris|\n",
      "|1360050394550980609|NULL          |@Angadgsingh @rihanna @GretaThunberg @meenaharris @TheRock! Here is a great coverage by @VICENews! The #FarmersProtest has faced multiple #Humanrights violations and this isn't a one off, these keep getting repeated time after time by GOI. The People's Elbow electrification is needed to raise awareness! Can I count on you?|meenaharris|\n",
      "|1360051784358780931|NULL          |@meenaharris #FarmersProtest  🐯🦊🐱🐈🦭🐺🦇🤠🤡🤖👹                                                                                                                                                                                                                                                                                |meenaharris|\n",
      "|1360051911051927552|NULL          |@meenaharris #FarmersProtest https://t.co/bLOgxmkld4                                                                                                                                                                                                                                                                                |meenaharris|\n",
      "|1360052292343504898|NULL          |@meenaharris @Trevornoah #FarmersProtest https://t.co/J4KZMvlHOr                                                                                                                                                                                                                                                                    |meenaharris|\n",
      "|1360053509194940420|NULL          |https://t.co/N9mKAubx4i  lakhe te deep sidhu nu galt bolde aaa ahh bande kisan ekata nu tod rhe aaa cahnge bandiya di parkh karlo #kisani #andolanjeevi #FarmersProtest @diljitdosanjh @Kisanektamorcha @amirkingkhan @meenaharris @indijaswal_ @jassbajwa_                                                                         |meenaharris|\n",
      "|1360055896353644547|NULL          |Global celebrities n influencers have no right to interfere in India's domestic affairs but they have every right to voice their concern for human rights violation by any country. Thnks @rihanna @miakhalifa @meenaharris n many others for ur courage n compassion\\n\\n#FarmersProtest                                            |meenaharris|\n",
      "|1360062322585309185|NULL          |Thanks #FreeNodeepKour #FarmersProtest @meenaharris https://t.co/gnpbuhkmmx                                                                                                                                                                                                                                                         |meenaharris|\n",
      "|1360064780531245057|NULL          |@meenaharris Thanks for your constant support. Keep spreading awareness and supporting the peaceful protests. We love you!! \\n#FarmersProtest \\n#ReleaseNodeepKaur \\n#FarmersAboveReligiousHate \\n#FarmersStandingFirm                                                                                                              |meenaharris|\n",
      "+-------------------+--------------+------------------------------------------------------------------------------------------------------------------------------------------------------------------------------------------------------------------------------------------------------------------------------------------------------------------------------------+-----------+\n",
      "only showing top 10 rows\n",
      "\n"
     ]
    }
   ],
   "source": [
    "df_mentioned.show(n=10, truncate=False)"
   ]
  },
  {
   "cell_type": "markdown",
   "metadata": {},
   "source": [
    "## Using Spark and SparkSQL"
   ]
  },
  {
   "cell_type": "markdown",
   "metadata": {},
   "source": [
    "### Q1: Top 10 Dates with Most Tweets and the User with Most Tweets on Each Date\n",
    "\n",
    "Approach: Using pySpark"
   ]
  },
  {
   "cell_type": "code",
   "execution_count": 40,
   "metadata": {},
   "outputs": [],
   "source": [
    "from pyspark.sql import SparkSession\n",
    "from pyspark.sql.functions import col, to_date\n",
    "from typing import List, Tuple\n",
    "import datetime\n",
    "\n",
    "spark = SparkSession.builder.appName(\"Twitter Data Analysis\").getOrCreate()\n",
    "\n",
    "def q1_time(file_path: str) -> List[Tuple[datetime.date, str]]:\n",
    "\n",
    "    df = spark.read.json(file_path)\n",
    "\n",
    "    tweets_by_date = df.withColumn(\"date\", to_date(col(\"date\"))).groupBy(\"date\").count()\n",
    "\n",
    "    top_dates = tweets_by_date.orderBy(col(\"count\").desc()).limit(10).collect()\n",
    "\n",
    "    results = []\n",
    "    for row in top_dates:\n",
    "        date = row[\"date\"]\n",
    "\n",
    "        top_user = df.filter(col(\"date\") == date).groupBy(\"user.username\").count().orderBy(col(\"count\").desc()).first()\n",
    "        results.append((date, top_user[\"username\"]))\n",
    "\n",
    "    return results"
   ]
  },
  {
   "cell_type": "code",
   "execution_count": 41,
   "metadata": {},
   "outputs": [
    {
     "data": {
      "text/plain": [
       "[(datetime.date(2021, 2, 12), 'RanbirS00614606'),\n",
       " (datetime.date(2021, 2, 13), 'MaanDee08215437'),\n",
       " (datetime.date(2021, 2, 17), 'RaaJVinderkaur'),\n",
       " (datetime.date(2021, 2, 16), 'jot__b'),\n",
       " (datetime.date(2021, 2, 14), 'rebelpacifist'),\n",
       " (datetime.date(2021, 2, 18), 'neetuanjle_nitu'),\n",
       " (datetime.date(2021, 2, 15), 'jot__b'),\n",
       " (datetime.date(2021, 2, 20), 'MangalJ23056160'),\n",
       " (datetime.date(2021, 2, 23), 'Surrypuria'),\n",
       " (datetime.date(2021, 2, 19), 'Preetm91')]"
      ]
     },
     "execution_count": 41,
     "metadata": {},
     "output_type": "execute_result"
    }
   ],
   "source": [
    "q1_time(file_path)"
   ]
  },
  {
   "cell_type": "markdown",
   "metadata": {},
   "source": [
    "### Q2: Get top 10 emojis more used with its corresponding count\n",
    "\n",
    "Approach: Using pySpark"
   ]
  },
  {
   "cell_type": "code",
   "execution_count": 42,
   "metadata": {},
   "outputs": [],
   "source": [
    "import emoji\n",
    "from typing import List, Tuple\n",
    "from pyspark.sql.functions import udf, explode, col\n",
    "from pyspark.sql.types import ArrayType, StringType\n",
    "from pyspark.sql import SparkSession\n",
    "\n",
    "spark = SparkSession.builder.appName(\"Twitter Data Analysis\").getOrCreate()\n",
    "\n",
    "def extract_emojis(text):\n",
    "    emojis = emoji.emoji_list(text)\n",
    "    return [e['emoji'] for e in emojis]\n",
    "\n",
    "extract_emojis_udf = udf(extract_emojis, ArrayType(StringType()))\n",
    "\n",
    "\n",
    "def q2_time(file_path: str) -> List[Tuple[str, int]]:\n",
    "    df = spark.read.json(file_path)\n",
    "\n",
    "    emojis_df = df.withColumn(\"emojis\", extract_emojis_udf(col(\"content\")))\n",
    "    emojis_exploded = emojis_df.select(explode(col(\"emojis\")).alias(\"emoji\"))\n",
    "    emoji_counts = emojis_exploded.groupBy(\"emoji\").count().orderBy(col(\"count\").desc()).limit(10)\n",
    "\n",
    "    return [(row['emoji'], row['count']) for row in emoji_counts.collect()]"
   ]
  },
  {
   "cell_type": "code",
   "execution_count": 43,
   "metadata": {},
   "outputs": [
    {
     "name": "stderr",
     "output_type": "stream",
     "text": [
      "                                                                                \r"
     ]
    },
    {
     "data": {
      "text/plain": [
       "[('🙏', 5049),\n",
       " ('😂', 3072),\n",
       " ('🚜', 2972),\n",
       " ('🌾', 2182),\n",
       " ('🇮🇳', 2086),\n",
       " ('🤣', 1668),\n",
       " ('✊', 1651),\n",
       " ('❤️', 1382),\n",
       " ('🙏🏻', 1317),\n",
       " ('💚', 1040)]"
      ]
     },
     "execution_count": 43,
     "metadata": {},
     "output_type": "execute_result"
    }
   ],
   "source": [
    "q2_time(file_path)"
   ]
  },
  {
   "cell_type": "markdown",
   "metadata": {},
   "source": [
    "### Q3: Top 10 most influential historical users (username) based on the count of mentions (@) recorded by each of them\n",
    "\n",
    "Approach: Simple query using SparkSQL"
   ]
  },
  {
   "cell_type": "code",
   "execution_count": 44,
   "metadata": {},
   "outputs": [
    {
     "name": "stdout",
     "output_type": "stream",
     "text": [
      "+---------------+--------------+\n",
      "|username       |mentions_count|\n",
      "+---------------+--------------+\n",
      "|narendramodi   |2265          |\n",
      "|Kisanektamorcha|1840          |\n",
      "|RakeshTikaitBKU|1644          |\n",
      "|PMOIndia       |1427          |\n",
      "|RahulGandhi    |1146          |\n",
      "|GretaThunberg  |1048          |\n",
      "|RaviSinghKA    |1019          |\n",
      "|rihanna        |986           |\n",
      "|UNHumanRights  |962           |\n",
      "|meenaharris    |926           |\n",
      "+---------------+--------------+\n",
      "only showing top 10 rows\n",
      "\n"
     ]
    }
   ],
   "source": [
    "spark.sql(\"\"\"\n",
    "            SELECT mentioned.username AS username, COUNT(*) AS mentions_count\n",
    "            FROM tweets\n",
    "            LATERAL VIEW explode(mentionedUsers) t AS mentioned\n",
    "            GROUP BY mentioned.username\n",
    "            ORDER BY mentions_count DESC\n",
    "          \"\"\"\n",
    "          ).show(n=10, truncate=False)"
   ]
  },
  {
   "cell_type": "code",
   "execution_count": null,
   "metadata": {},
   "outputs": [],
   "source": []
  }
 ],
 "metadata": {
  "kernelspec": {
   "display_name": ".venv",
   "language": "python",
   "name": "python3"
  },
  "language_info": {
   "codemirror_mode": {
    "name": "ipython",
    "version": 3
   },
   "file_extension": ".py",
   "mimetype": "text/x-python",
   "name": "python",
   "nbconvert_exporter": "python",
   "pygments_lexer": "ipython3",
   "version": "3.9.16"
  },
  "orig_nbformat": 4
 },
 "nbformat": 4,
 "nbformat_minor": 2
}
