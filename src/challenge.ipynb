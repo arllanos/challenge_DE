{
 "cells": [
  {
   "cell_type": "markdown",
   "metadata": {},
   "source": [
    "# DE Challenge\n",
    "## Introduction\n",
    "\n",
    "TODO: detallar tu solución y todas las suposiciones que estás considerando, etc ..."
   ]
  },
  {
   "cell_type": "markdown",
   "metadata": {},
   "source": [
    "## Project Setup\n",
    "\n",
    "1. Create a virtual environment (`.venv`) in the root directory and install all the project dependencies.\n",
    "    ```sh\n",
    "    python3 -m venv .venv\n",
    "    source .venv/bin/activate\n",
    "    pip install -r requirements.txt\n",
    "    ```\n",
    "1. Download the data\n",
    "\n",
    "    Descarga manualmente https://drive.google.com/file/d/1ig2ngoXFTxP5Pa8muXo02mDTFexZzsis/view?usp=sharing, y extrae del archivo `.zip` el json file.\n",
    "    El archivo extraido debe ser copiado a la carpeta `data/`."
   ]
  },
  {
   "cell_type": "markdown",
   "metadata": {},
   "source": [
    "## Initialization of Notebook Variables"
   ]
  },
  {
   "cell_type": "code",
   "execution_count": null,
   "metadata": {},
   "outputs": [],
   "source": [
    "import subprocess\n",
    "\n",
    "file_path = \"../data/farmers-protest-tweets-2021-2-4.json\"\n",
    "project_root = subprocess.check_output(\"git rev-parse --show-toplevel\", shell=True).decode('utf-8').strip()"
   ]
  },
  {
   "cell_type": "code",
   "execution_count": null,
   "metadata": {},
   "outputs": [],
   "source": [
    "# enable the autoreload extension and configure it for automatic module's reload\n",
    "%load_ext autoreload\n",
    "%autoreload 2"
   ]
  },
  {
   "cell_type": "markdown",
   "metadata": {},
   "source": [
    "## Q1 Function Execution\n",
    "Top 10 fechas donde hay más tweets. Mencionar el usuario (username) que más publicaciones tiene por cada uno de esos días. "
   ]
  },
  {
   "cell_type": "code",
   "execution_count": null,
   "metadata": {},
   "outputs": [],
   "source": [
    "from q1_time import q1_time\n",
    "from q1_memory import q1_memory"
   ]
  },
  {
   "cell_type": "code",
   "execution_count": null,
   "metadata": {},
   "outputs": [],
   "source": [
    "q1_time(file_path)"
   ]
  },
  {
   "cell_type": "code",
   "execution_count": null,
   "metadata": {},
   "outputs": [],
   "source": [
    "q1_memory(file_path)"
   ]
  },
  {
   "cell_type": "markdown",
   "metadata": {},
   "source": [
    "## Q2 Function Execution\n",
    "Top 10 emojis más usados con su respectivo conteo."
   ]
  },
  {
   "cell_type": "code",
   "execution_count": null,
   "metadata": {},
   "outputs": [],
   "source": [
    "from q2_time import q2_time\n",
    "from q2_memory import q2_memory"
   ]
  },
  {
   "cell_type": "code",
   "execution_count": null,
   "metadata": {},
   "outputs": [],
   "source": [
    "q2_time(file_path)"
   ]
  },
  {
   "cell_type": "code",
   "execution_count": null,
   "metadata": {},
   "outputs": [],
   "source": [
    "q2_memory(file_path)"
   ]
  },
  {
   "cell_type": "markdown",
   "metadata": {},
   "source": [
    "## Time Profiling with cProfile\n",
    "\n",
    "El report de cProfile muestra información general de la forma **`N` function calls in `S` seconds** e información mas detallada en la tabla de Perfil.\n",
    "\n",
    "Esta última, se muestra ordenada por tiempo acumulativo, `cumtime`, que es el tiempo total empleado en cada función, incluyendo el tiempo en todas las subfunciones que son llamadas.\n",
    "\n",
    "Las unidades en las columnas `tottime`, `percall`, `cumtime` y `percall` están expresadas en segundos."
   ]
  },
  {
   "cell_type": "code",
   "execution_count": null,
   "metadata": {},
   "outputs": [],
   "source": [
    "import cProfile\n",
    "import pstats"
   ]
  },
  {
   "cell_type": "code",
   "execution_count": null,
   "metadata": {},
   "outputs": [],
   "source": [
    "# prints summary and the top offending code where most time was spent by the function\n",
    "func = \"q1_time\"\n",
    "top_offending = 15\n",
    "cProfile.run(f\"q1_time('{file_path}')\", f\"profiling/cprofile_results_{func}.bin\")\n",
    "\n",
    "p = pstats.Stats('profiling/cprofile_results_q1_time.bin')\n",
    "p.sort_stats('cumulative').print_stats(top_offending)"
   ]
  },
  {
   "cell_type": "code",
   "execution_count": null,
   "metadata": {},
   "outputs": [],
   "source": [
    "# prints summary and the top offending code where most time was spent by the function\n",
    "func = \"q1_memory\"\n",
    "top_offending = 15\n",
    "cProfile.run(f\"q1_time('{file_path}')\", f\"profiling/cprofile_results_{func}.bin\")\n",
    "\n",
    "p = pstats.Stats('profiling/cprofile_results_q1_memory.bin')\n",
    "p.sort_stats('cumulative').print_stats(top_offending)"
   ]
  },
  {
   "cell_type": "code",
   "execution_count": null,
   "metadata": {},
   "outputs": [],
   "source": [
    "# prints summary and the top offending code where most time was spent by the function\n",
    "func = \"q2_time\"\n",
    "top_offending = 15\n",
    "cProfile.run(f\"q1_time('{file_path}')\", f\"profiling/cprofile_results_{func}.bin\")\n",
    "\n",
    "p = pstats.Stats('profiling/cprofile_results_q1_memory.bin')\n",
    "p.sort_stats('cumulative').print_stats(top_offending)"
   ]
  },
  {
   "cell_type": "code",
   "execution_count": null,
   "metadata": {},
   "outputs": [],
   "source": [
    "# prints summary and the top offending code where most time was spent by the function\n",
    "func = \"q2_memory\"\n",
    "top_offending = 15\n",
    "cProfile.run(f\"q1_time('{file_path}')\", f\"profiling/cprofile_results_{func}.bin\")\n",
    "\n",
    "p = pstats.Stats('profiling/cprofile_results_q1_memory.bin')\n",
    "p.sort_stats('cumulative').print_stats(top_offending)"
   ]
  },
  {
   "cell_type": "markdown",
   "metadata": {},
   "source": [
    "## Memory Profiling with Memray\n",
    "Si bien Memray puede proporcionar diferentes tipos de reportes, por simplicidad en este challenge se utiliza `stats`, el cual provee high level stats del uso de memoria. Si se desea analizar el uso de memoria desde otra perspectiva se pueden generar otro tipos de reporte a partir del archivo generado en el directorio `profiling/`.\n",
    "\n",
    "Ejemplo para generar `html` con representacion visual flamegraph: \n",
    "```bash\n",
    "python 3 -m memray src/profiling/memray-run_memray_profiling.py.2860.bin\n",
    "```\n",
    "\n",
    "El reporte `stats` proporcionado incluye lo siguiente.\n",
    "\n",
    "📏 Total allocations: Indica el número total de veces que se reservó memoria durante la ejecución del script.\n",
    "\n",
    "📦 Total memory allocated: Muestra la cantidad total de memoria asignada durante la ejecución, lo cual es crucial para entender la demanda de memoria del script.\n",
    "\n",
    "📊 Histogram of allocation size: Este histograma ofrece una vista rápida de los rangos de tamaño de las asignaciones de memoria, lo que ayuda a identificar si la mayoría de las asignaciones son grandes o pequeñas.\n",
    "\n",
    "📂 Allocator type distribution: Esta sección desglosa el tipo de asignaciones de memoria (como MALLOC, MMAP, etc.) utilizadas en el script, proporcionando una idea de las operaciones de memoria subyacentes.\n",
    "\n",
    "🥇 Top 5 largest allocating locations (by size) y 🥇 Top 5 largest allocating locations (by number of allocations): Aquí se destacan las funciones o líneas de código que más memoria asignan, tanto en términos de tamaño como de cantidad de asignaciones, importante para identificar partes del código que pueden ser optimizadas en el uso de la memoria.\n",
    "\n",
    "**NOTA**: El archivo de salida de memray stats es `profiling/memray_stats.ans`. Este archivo contiene ANSI codes. Si utiliza VSCode puedes visualizarlo con alguna extension apropiada como ser **ANSI Color**."
   ]
  },
  {
   "cell_type": "code",
   "execution_count": null,
   "metadata": {},
   "outputs": [],
   "source": [
    "output_file = f\"{project_root}/src/profiling/memray_stats.ans\"\n",
    "\n",
    "# Run the profiling scripts and direct output to the file\n",
    "!{project_root}/src/profiling/run_memray_profiling.sh q1_time {file_path} > {output_file} 2>&1\n",
    "!{project_root}/src/profiling/run_memray_profiling.sh q1_memory {file_path} >> {output_file} 2>&1\n",
    "!{project_root}/src/profiling/run_memray_profiling.sh q2_time {file_path} >> {output_file} 2>&1\n",
    "!{project_root}/src/profiling/run_memray_profiling.sh q2_memory {file_path} >> {output_file} 2>&1\n",
    "\n",
    "# Generate a clickable link to the output file\n",
    "from IPython.display import display, HTML\n",
    "link = f'<a href=\"{output_file}\" target=\"_blank\">Open Memray Profiling Output</a>'\n",
    "display(HTML(link))"
   ]
  },
  {
   "cell_type": "code",
   "execution_count": null,
   "metadata": {},
   "outputs": [],
   "source": []
  }
 ],
 "metadata": {
  "kernelspec": {
   "display_name": ".venv",
   "language": "python",
   "name": "python3"
  },
  "language_info": {
   "codemirror_mode": {
    "name": "ipython",
    "version": 3
   },
   "file_extension": ".py",
   "mimetype": "text/x-python",
   "name": "python",
   "nbconvert_exporter": "python",
   "pygments_lexer": "ipython3",
   "version": "3.9.16"
  },
  "orig_nbformat": 4
 },
 "nbformat": 4,
 "nbformat_minor": 2
}
