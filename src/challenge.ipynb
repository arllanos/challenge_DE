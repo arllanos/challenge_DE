{
 "cells": [
  {
   "cell_type": "markdown",
   "metadata": {},
   "source": [
    "# DE Challenge\n",
    "## Introduction\n",
    "\n",
    "TODO: \n",
    "\n",
    "- describe approach and libraries selected\n",
    "- alternative spark notebook\n",
    "- pytest tests --capture=no --tb=line -v\n",
    "- ci/cd and github actions"
   ]
  },
  {
   "cell_type": "markdown",
   "metadata": {},
   "source": [
    "## Project Setup\n",
    "\n",
    "1. Create a virtual environment (`.venv`) in the root directory and install all the project dependencies.\n",
    "    ```sh\n",
    "    python3 -m venv .venv\n",
    "    source .venv/bin/activate\n",
    "    pip install -r requirements.txt\n",
    "    ```\n",
    "1. Download the data\n",
    "\n",
    "    Descarga manualmente https://drive.google.com/file/d/1ig2ngoXFTxP5Pa8muXo02mDTFexZzsis/view?usp=sharing, y extrae del archivo `.zip` el json file.\n",
    "    El archivo extraído debe ser copiado a la carpeta `data/`."
   ]
  },
  {
   "cell_type": "markdown",
   "metadata": {},
   "source": [
    "## Initialization of Notebook Variables"
   ]
  },
  {
   "cell_type": "code",
   "execution_count": null,
   "metadata": {},
   "outputs": [],
   "source": [
    "import subprocess\n",
    "\n",
    "file_path = \"../data/farmers-protest-tweets-2021-2-4.json\"\n",
    "# file_path = \"../data/farmers-protest-tweets-2021-2-4-small.json\"\n",
    "project_root = subprocess.check_output(\"git rev-parse --show-toplevel\", shell=True).decode('utf-8').strip()"
   ]
  },
  {
   "cell_type": "code",
   "execution_count": null,
   "metadata": {},
   "outputs": [],
   "source": [
    "# enable the autoreload extension and configure it for automatic module's reload\n",
    "%load_ext autoreload\n",
    "%autoreload 2"
   ]
  },
  {
   "cell_type": "markdown",
   "metadata": {},
   "source": [
    "## Execution of Q1 Functions\n",
    "Top 10 fechas donde hay más tweets. Mencionar el usuario (username) que más publicaciones tiene por cada uno de esos días. "
   ]
  },
  {
   "cell_type": "code",
   "execution_count": null,
   "metadata": {},
   "outputs": [],
   "source": [
    "from q1_time import q1_time\n",
    "from q1_memory import q1_memory"
   ]
  },
  {
   "cell_type": "code",
   "execution_count": null,
   "metadata": {},
   "outputs": [],
   "source": [
    "q1_time(file_path)"
   ]
  },
  {
   "cell_type": "code",
   "execution_count": null,
   "metadata": {},
   "outputs": [],
   "source": [
    "q1_memory(file_path)"
   ]
  },
  {
   "cell_type": "markdown",
   "metadata": {},
   "source": [
    "## Execution of Q2 Functions\n",
    "Top 10 emojis más usados con su respectivo conteo."
   ]
  },
  {
   "cell_type": "code",
   "execution_count": null,
   "metadata": {},
   "outputs": [],
   "source": [
    "from q2_time import q2_time\n",
    "from q2_memory import q2_memory"
   ]
  },
  {
   "cell_type": "code",
   "execution_count": null,
   "metadata": {},
   "outputs": [],
   "source": [
    "q2_time(file_path)"
   ]
  },
  {
   "cell_type": "code",
   "execution_count": null,
   "metadata": {},
   "outputs": [],
   "source": [
    "q2_memory(file_path)"
   ]
  },
  {
   "cell_type": "markdown",
   "metadata": {},
   "source": [
    "## Execution of Q3 Functions\n",
    "Top 10 histórico de usuarios (username) más influyentes en función del conteo de las menciones (@) que registra cada uno de ellos."
   ]
  },
  {
   "cell_type": "code",
   "execution_count": null,
   "metadata": {},
   "outputs": [],
   "source": [
    "from q3_time import q3_time\n",
    "from q3_memory import q3_memory"
   ]
  },
  {
   "cell_type": "code",
   "execution_count": null,
   "metadata": {},
   "outputs": [],
   "source": [
    "q3_time(file_path)"
   ]
  },
  {
   "cell_type": "code",
   "execution_count": null,
   "metadata": {},
   "outputs": [],
   "source": [
    "q3_memory(file_path)"
   ]
  },
  {
   "cell_type": "markdown",
   "metadata": {},
   "source": [
    "## Time Profiling with cProfile\n",
    "\n",
    "El report de cProfile muestra la siguiente información:\n",
    "1. Informacion general de la forma **`N` function calls in `S` seconds**. \n",
    "2. Información detallada en la Tabla de Perfil.\n",
    "    - La información esta ordenada por tiempo acumulativo, `cumtime`, que es el tiempo total empleado en cada función, incluyendo el tiempo en todas las subfunciones que son llamadas.\n",
    "    - Las unidades en las columnas `tottime`, `percall`, `cumtime` y `percall` están expresadas en segundos."
   ]
  },
  {
   "cell_type": "code",
   "execution_count": null,
   "metadata": {},
   "outputs": [],
   "source": [
    "from profiling import time_profiling"
   ]
  },
  {
   "cell_type": "code",
   "execution_count": null,
   "metadata": {},
   "outputs": [],
   "source": [
    "time_profiling.run(q1_time, file_path, 15)"
   ]
  },
  {
   "cell_type": "code",
   "execution_count": null,
   "metadata": {},
   "outputs": [],
   "source": [
    "time_profiling.run(q1_memory, file_path, 15)"
   ]
  },
  {
   "cell_type": "code",
   "execution_count": null,
   "metadata": {},
   "outputs": [],
   "source": [
    "time_profiling.run(q2_time, file_path, 15)"
   ]
  },
  {
   "cell_type": "code",
   "execution_count": null,
   "metadata": {},
   "outputs": [],
   "source": [
    "time_profiling.run(q2_memory, file_path, 15)"
   ]
  },
  {
   "cell_type": "code",
   "execution_count": null,
   "metadata": {},
   "outputs": [],
   "source": [
    "time_profiling.run(q3_time, file_path, 15)"
   ]
  },
  {
   "cell_type": "code",
   "execution_count": null,
   "metadata": {},
   "outputs": [],
   "source": [
    "time_profiling.run(q3_memory, file_path, 15)"
   ]
  },
  {
   "cell_type": "markdown",
   "metadata": {},
   "source": [
    "## Memory Profiling with Memray\n",
    "Si bien Memray puede proporcionar diferentes tipos de reportes, por simplicidad en este challenge se utiliza `stats`, el cual provee high level stats del uso de memoria. Si se desea analizar el uso de memoria desde otra perspectiva se pueden generar otro tipos de reporte a partir del archivo generado en el directorio `profiling/`.\n",
    "\n",
    "Ejemplo para generar `html` con representacion visual flamegraph:\n",
    "1. Generar bin file para q1_memory\n",
    "    ```bash\n",
    "    FUNC=q1_memory\n",
    "    FILE_PATH=data/farmers-protest-tweets-2021-2-4.json\n",
    "    python3 -m memray run src/profiling/memory_profiling.py $FUNC $FILE_PATH\n",
    "    ```\n",
    "1. Generar flamegraph\n",
    "    ```bash\n",
    "    # reemplazar `path/to/bin/file` con el bin file generado en el punto anterior\n",
    "    python3 -m memray flamegraph path/to/bin/file\n",
    "    ```\n",
    "\n",
    "El reporte `stats` generado incluye lo siguiente.\n",
    "\n",
    "📏 **Total allocations**: Indica el número total de veces que se reservó memoria durante la ejecución del script.\n",
    "\n",
    "📦 **Total memory allocated**: Muestra la cantidad total de memoria asignada durante la ejecución, lo cual es crucial para entender la demanda de memoria del script.\n",
    "\n",
    "📊 **Histogram of allocation size**: Este histograma ofrece una vista rápida de los rangos de tamaño de las asignaciones de memoria, lo que ayuda a identificar si la mayoría de las asignaciones son grandes o pequeñas.\n",
    "\n",
    "📂 **Allocator type distribution**: Esta sección desglosa el tipo de asignaciones de memoria (como MALLOC, MMAP, etc.) utilizadas en el script, proporcionando una idea de las operaciones de memoria subyacentes.\n",
    "\n",
    "🥇 **Top 5 largest allocating locations (by size)** y 🥇 **Top 5 largest allocating locations (by number of allocations)**: Aquí se destacan las funciones o líneas de código que más memoria asignan, tanto en términos de tamaño como de cantidad de asignaciones, importante para identificar partes del código que pueden ser optimizadas en el uso de la memoria.\n",
    "\n",
    "**NOTA**: Memray stats crea el reporte en profiling/memray_stats.ans. Este archivo incluye códigos ANSI, por lo tanto, opcionalmente, puedes usar una extensión compatible, como \"ANSI Colors\" en VSCode, para una mejor visualización."
   ]
  },
  {
   "cell_type": "code",
   "execution_count": null,
   "metadata": {},
   "outputs": [],
   "source": [
    "output_file = f\"{project_root}/src/profiling/memray-memory_profiling_stats.ans\"\n",
    "\n",
    "# Run the profiling scripts and direct output to the file\n",
    "!{project_root}/src/profiling/memory_profiling.sh q1_time {file_path} > {output_file} 2>&1\n",
    "!{project_root}/src/profiling/memory_profiling.sh q1_memory {file_path} >> {output_file} 2>&1\n",
    "!{project_root}/src/profiling/memory_profiling.sh q2_time {file_path} >> {output_file} 2>&1\n",
    "!{project_root}/src/profiling/memory_profiling.sh q2_memory {file_path} >> {output_file} 2>&1\n",
    "!{project_root}/src/profiling/memory_profiling.sh q3_time {file_path} >> {output_file} 2>&1\n",
    "!{project_root}/src/profiling/memory_profiling.sh q3_memory {file_path} >> {output_file} 2>&1\n",
    "\n",
    "# Generate a clickable link to the output file\n",
    "from IPython.display import display, HTML\n",
    "link = f'<a href=\"{output_file}\" target=\"_blank\">Open Memray Profiling Output</a>'\n",
    "display(HTML(link))"
   ]
  },
  {
   "cell_type": "code",
   "execution_count": null,
   "metadata": {},
   "outputs": [],
   "source": []
  }
 ],
 "metadata": {
  "kernelspec": {
   "display_name": ".venv",
   "language": "python",
   "name": "python3"
  },
  "language_info": {
   "codemirror_mode": {
    "name": "ipython",
    "version": 3
   },
   "file_extension": ".py",
   "mimetype": "text/x-python",
   "name": "python",
   "nbconvert_exporter": "python",
   "pygments_lexer": "ipython3",
   "version": "3.9.16"
  },
  "orig_nbformat": 4
 },
 "nbformat": 4,
 "nbformat_minor": 2
}
