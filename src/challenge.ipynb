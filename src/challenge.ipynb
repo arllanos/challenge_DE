{
 "cells": [
  {
   "cell_type": "markdown",
   "metadata": {},
   "source": [
    "# DE Challenge\n",
    "## Introducción\n",
    "### Acerca del Challenge y la Solución\n",
    "\n",
    "Este desafío me ha resultado muy interesante. Tambien estimulante por el hecho de tener abierta la elección de las librerias con las cual escribir la solución.\n",
    "\n",
    "### Spark, Dask o Data Structures Core de Python?\n",
    "Para completar este challenge consideré usar tecnologias distribuídas o cloud, lo cual creo que hubiera introducido complejidad en el acceso y/o ejecución de la solución. \n",
    "\n",
    "Por otro lado, tras evaluar el contenido y tamaño del dataset, decidí que usar solución distribuída como Dask o Spark sería un \"overkill\" para la tarea.\n",
    "\n",
    "Dicho esto, he tratado de balancear estos puntos, inclinándome por uso de Pandas y estructuras de datos core de Python y a su vez, usar Spark primariamente como una forma de analizar y explorar los datos.\n",
    "\n",
    "### Jupyter Notebook Complementario (Spark)\n",
    "Como explico mas arriba, he realizado pruebas con Spark en un [jupyter notebook separado](./eda_spark.ipynb). El propósito de este, fué realizar exploración de los datos y validar resultados de las differentes funciones Q1, Q2 y Q3.\n",
    "\n",
    "### Unit Tests\n",
    "Se escribieron unit tests los cuales se pueden ejecutar de la siguiente manera:\n",
    "```bash\n",
    "pytest tests --capture=no --tb=line -v\n",
    "```\n",
    "\n",
    "### Notas de la Solución y Areas de Mejora\n",
    "Durante el desarrollo de este proyecto, tomé algunas decisiones de implementación basadas en las limitaciones de tiempo y los objetivos del challenge. Aunque el proyecto creo que logra los objetivos principales, debo reconocer algunas áreas donde se podrían hacer mejoras y refinamientos.\n",
    "\n",
    "- **Code Coverage**\n",
    "\n",
    "    Aunque he implementado unit tests usando pytest, la code coverage podría ser mejorada.\n",
    "\n",
    "- **Calidad del Código y Mantenibilidad**\n",
    "\n",
    "    Mantener un equilibrio entre la velocidad de entrega y la calidad del código puede ser desafiante, y en este proyecto, puede que haya hecho algunos trade-offs.\n",
    "\n",
    "- **Integración Continua (CI)**\n",
    "\n",
    "    Creo mucho en los beneficios de CI/CD. Aunque este proyecto actualmente carece de una CI, una cosa que configuraría es un pipeline de Integración Continua (CI) usando GitHub Actions para automatizar la ejecución de unit tests e iniciar algunas verificaciones de calidad como linting."
   ]
  },
  {
   "cell_type": "markdown",
   "metadata": {},
   "source": [
    "## Project Setup\n",
    "\n",
    "1. Crear virtual environment (`.venv`) en el root directory e instalar todas las project dependencies.\n",
    "    ```sh\n",
    "    python3 -m venv .venv\n",
    "    source .venv/bin/activate\n",
    "    pip install -r requirements.txt\n",
    "    ```\n",
    "1. Descargar y proveer los datos\n",
    "\n",
    "    Descarga manualmente https://drive.google.com/file/d/1ig2ngoXFTxP5Pa8muXo02mDTFexZzsis/view?usp=sharing, y extrae del archivo `.zip` el json file.\n",
    "    El archivo extraído debe ser copiado a la carpeta `data/`."
   ]
  },
  {
   "cell_type": "markdown",
   "metadata": {},
   "source": [
    "## Initialization of Notebook and Variables"
   ]
  },
  {
   "cell_type": "code",
   "execution_count": 62,
   "metadata": {},
   "outputs": [
    {
     "name": "stdout",
     "output_type": "stream",
     "text": [
      "The autoreload extension is already loaded. To reload it, use:\n",
      "  %reload_ext autoreload\n"
     ]
    }
   ],
   "source": [
    "# enable the autoreload extension and configure it for automatic module's reload\n",
    "%load_ext autoreload\n",
    "%autoreload 2"
   ]
  },
  {
   "cell_type": "code",
   "execution_count": 63,
   "metadata": {},
   "outputs": [],
   "source": [
    "import subprocess\n",
    "\n",
    "file_path = \"../data/farmers-protest-tweets-2021-2-4.json\"\n",
    "# file_path = \"../data/farmers-protest-tweets-2021-2-4-small.json\"\n",
    "project_root = subprocess.check_output(\"git rev-parse --show-toplevel\", shell=True).decode('utf-8').strip()"
   ]
  },
  {
   "cell_type": "markdown",
   "metadata": {},
   "source": [
    "## Execution of Q1 Functions\n",
    "Top 10 fechas donde hay más tweets. Mencionar el usuario (username) que más publicaciones tiene por cada uno de esos días. "
   ]
  },
  {
   "cell_type": "code",
   "execution_count": 64,
   "metadata": {},
   "outputs": [],
   "source": [
    "from q1_time import q1_time\n",
    "from q1_memory import q1_memory"
   ]
  },
  {
   "cell_type": "code",
   "execution_count": 65,
   "metadata": {},
   "outputs": [
    {
     "data": {
      "text/plain": [
       "[(datetime.date(2021, 2, 12), 'RanbirS00614606'),\n",
       " (datetime.date(2021, 2, 13), 'MaanDee08215437'),\n",
       " (datetime.date(2021, 2, 14), 'rebelpacifist'),\n",
       " (datetime.date(2021, 2, 15), 'jot__b'),\n",
       " (datetime.date(2021, 2, 16), 'jot__b'),\n",
       " (datetime.date(2021, 2, 17), 'RaaJVinderkaur'),\n",
       " (datetime.date(2021, 2, 18), 'neetuanjle_nitu'),\n",
       " (datetime.date(2021, 2, 19), 'Preetm91'),\n",
       " (datetime.date(2021, 2, 20), 'MangalJ23056160'),\n",
       " (datetime.date(2021, 2, 23), 'Surrypuria')]"
      ]
     },
     "execution_count": 65,
     "metadata": {},
     "output_type": "execute_result"
    }
   ],
   "source": [
    "q1_time(file_path)"
   ]
  },
  {
   "cell_type": "code",
   "execution_count": 66,
   "metadata": {},
   "outputs": [
    {
     "data": {
      "text/plain": [
       "[(datetime.date(2021, 2, 12), 'RanbirS00614606'),\n",
       " (datetime.date(2021, 2, 13), 'MaanDee08215437'),\n",
       " (datetime.date(2021, 2, 17), 'RaaJVinderkaur'),\n",
       " (datetime.date(2021, 2, 16), 'jot__b'),\n",
       " (datetime.date(2021, 2, 14), 'rebelpacifist'),\n",
       " (datetime.date(2021, 2, 18), 'neetuanjle_nitu'),\n",
       " (datetime.date(2021, 2, 15), 'jot__b'),\n",
       " (datetime.date(2021, 2, 20), 'MangalJ23056160'),\n",
       " (datetime.date(2021, 2, 23), 'Surrypuria'),\n",
       " (datetime.date(2021, 2, 19), 'Preetm91')]"
      ]
     },
     "execution_count": 66,
     "metadata": {},
     "output_type": "execute_result"
    }
   ],
   "source": [
    "q1_memory(file_path)"
   ]
  },
  {
   "cell_type": "markdown",
   "metadata": {},
   "source": [
    "## Execution of Q2 Functions\n",
    "Top 10 emojis más usados con su respectivo conteo."
   ]
  },
  {
   "cell_type": "code",
   "execution_count": 67,
   "metadata": {},
   "outputs": [],
   "source": [
    "from q2_time import q2_time\n",
    "from q2_memory import q2_memory"
   ]
  },
  {
   "cell_type": "code",
   "execution_count": 68,
   "metadata": {},
   "outputs": [
    {
     "data": {
      "text/plain": [
       "[('🙏', 5049),\n",
       " ('😂', 3072),\n",
       " ('🚜', 2972),\n",
       " ('🌾', 2182),\n",
       " ('🇮🇳', 2086),\n",
       " ('🤣', 1668),\n",
       " ('✊', 1651),\n",
       " ('❤️', 1382),\n",
       " ('🙏🏻', 1317),\n",
       " ('💚', 1040)]"
      ]
     },
     "execution_count": 68,
     "metadata": {},
     "output_type": "execute_result"
    }
   ],
   "source": [
    "q2_time(file_path)"
   ]
  },
  {
   "cell_type": "code",
   "execution_count": 69,
   "metadata": {},
   "outputs": [
    {
     "data": {
      "text/plain": [
       "[('🙏', 5049),\n",
       " ('😂', 3072),\n",
       " ('🚜', 2972),\n",
       " ('🌾', 2182),\n",
       " ('🇮🇳', 2086),\n",
       " ('🤣', 1668),\n",
       " ('✊', 1651),\n",
       " ('❤️', 1382),\n",
       " ('🙏🏻', 1317),\n",
       " ('💚', 1040)]"
      ]
     },
     "execution_count": 69,
     "metadata": {},
     "output_type": "execute_result"
    }
   ],
   "source": [
    "q2_memory(file_path)"
   ]
  },
  {
   "cell_type": "markdown",
   "metadata": {},
   "source": [
    "## Execution of Q3 Functions\n",
    "Top 10 histórico de usuarios (username) más influyentes en función del conteo de las menciones (@) que registra cada uno de ellos."
   ]
  },
  {
   "cell_type": "code",
   "execution_count": 70,
   "metadata": {},
   "outputs": [],
   "source": [
    "from q3_time import q3_time\n",
    "from q3_memory import q3_memory"
   ]
  },
  {
   "cell_type": "code",
   "execution_count": 71,
   "metadata": {},
   "outputs": [
    {
     "data": {
      "text/plain": [
       "[('narendramodi', 2265),\n",
       " ('Kisanektamorcha', 1840),\n",
       " ('RakeshTikaitBKU', 1644),\n",
       " ('PMOIndia', 1427),\n",
       " ('RahulGandhi', 1146),\n",
       " ('GretaThunberg', 1048),\n",
       " ('RaviSinghKA', 1019),\n",
       " ('rihanna', 986),\n",
       " ('UNHumanRights', 962),\n",
       " ('meenaharris', 926)]"
      ]
     },
     "execution_count": 71,
     "metadata": {},
     "output_type": "execute_result"
    }
   ],
   "source": [
    "q3_time(file_path)"
   ]
  },
  {
   "cell_type": "code",
   "execution_count": 72,
   "metadata": {},
   "outputs": [
    {
     "data": {
      "text/plain": [
       "[('narendramodi', 2265.0),\n",
       " ('Kisanektamorcha', 1840.0),\n",
       " ('RakeshTikaitBKU', 1644.0),\n",
       " ('PMOIndia', 1427.0),\n",
       " ('RahulGandhi', 1146.0),\n",
       " ('GretaThunberg', 1048.0),\n",
       " ('RaviSinghKA', 1019.0),\n",
       " ('rihanna', 986.0),\n",
       " ('UNHumanRights', 962.0),\n",
       " ('meenaharris', 926.0)]"
      ]
     },
     "execution_count": 72,
     "metadata": {},
     "output_type": "execute_result"
    }
   ],
   "source": [
    "q3_memory(file_path)"
   ]
  },
  {
   "cell_type": "markdown",
   "metadata": {},
   "source": [
    "## Time Profiling with cProfile\n",
    "\n",
    "El report de cProfile muestra la siguiente información:\n",
    "1. Informacion general de la forma **`N` function calls in `S` seconds**. \n",
    "2. Información detallada en la Tabla de Perfil.\n",
    "    - La información esta ordenada por tiempo acumulativo, `cumtime`, que es el tiempo total empleado en cada función, incluyendo el tiempo en todas las subfunciones que son llamadas.\n",
    "    - Las unidades en las columnas `tottime`, `percall`, `cumtime` y `percall` están expresadas en segundos."
   ]
  },
  {
   "cell_type": "code",
   "execution_count": 73,
   "metadata": {},
   "outputs": [],
   "source": [
    "from profiling import time_profiling"
   ]
  },
  {
   "cell_type": "code",
   "execution_count": 74,
   "metadata": {},
   "outputs": [
    {
     "name": "stdout",
     "output_type": "stream",
     "text": [
      "Sun Feb 18 20:12:21 2024    profiling/time_cprofile_results_q1_time.bin\n",
      "\n",
      "         646060 function calls (645512 primitive calls) in 4.488 seconds\n",
      "\n",
      "   Ordered by: cumulative time\n",
      "   List reduced from 836 to 15 due to restriction <15>\n",
      "\n",
      "   ncalls  tottime  percall  cumtime  percall filename:lineno(function)\n",
      "        1    0.000    0.000    4.488    4.488 {built-in method builtins.exec}\n",
      "        1    0.317    0.317    4.488    4.488 <string>:1(<module>)\n",
      "        1    0.006    0.006    4.171    4.171 /Users/arllanos/repos/other/challenge_DE/src/q1_time.py:5(q1_time)\n",
      "        1    0.023    0.023    4.052    4.052 /Users/arllanos/repos/other/challenge_DE/.venv/lib/python3.9/site-packages/pandas/io/json/_json.py:505(read_json)\n",
      "        1    0.005    0.005    3.792    3.792 /Users/arllanos/repos/other/challenge_DE/.venv/lib/python3.9/site-packages/pandas/io/json/_json.py:991(read)\n",
      "        1    0.000    0.000    3.442    3.442 /Users/arllanos/repos/other/challenge_DE/.venv/lib/python3.9/site-packages/pandas/io/json/_json.py:1033(_get_object_parser)\n",
      "        1    0.000    0.000    3.442    3.442 /Users/arllanos/repos/other/challenge_DE/.venv/lib/python3.9/site-packages/pandas/io/json/_json.py:1185(parse)\n",
      "        1    0.089    0.089    3.203    3.203 /Users/arllanos/repos/other/challenge_DE/.venv/lib/python3.9/site-packages/pandas/io/json/_json.py:1394(_parse)\n",
      "        1    2.717    2.717    2.727    2.727 {built-in method pandas._libs.json.ujson_loads}\n",
      "        3    0.000    0.000    0.506    0.169 /Users/arllanos/repos/other/challenge_DE/.venv/lib/python3.9/site-packages/pandas/core/frame.py:683(__init__)\n",
      "        1    0.000    0.000    0.312    0.312 /Users/arllanos/repos/other/challenge_DE/.venv/lib/python3.9/site-packages/pandas/core/internals/construction.py:506(nested_data_to_arrays)\n",
      "        1    0.001    0.001    0.312    0.312 /Users/arllanos/repos/other/challenge_DE/.venv/lib/python3.9/site-packages/pandas/core/internals/construction.py:793(to_arrays)\n",
      "        1    0.000    0.000    0.238    0.238 /Users/arllanos/repos/other/challenge_DE/.venv/lib/python3.9/site-packages/pandas/io/json/_json.py:827(__init__)\n",
      "        1    0.000    0.000    0.237    0.237 /Users/arllanos/repos/other/challenge_DE/.venv/lib/python3.9/site-packages/pandas/io/json/_json.py:907(_preprocess_data)\n",
      "        1    0.191    0.191    0.237    0.237 {method 'read' of '_io.TextIOWrapper' objects}\n",
      "\n",
      "\n"
     ]
    }
   ],
   "source": [
    "time_profiling.run(q1_time, file_path, 15)"
   ]
  },
  {
   "cell_type": "code",
   "execution_count": 75,
   "metadata": {},
   "outputs": [
    {
     "name": "stdout",
     "output_type": "stream",
     "text": [
      "Sun Feb 18 20:12:25 2024    profiling/time_cprofile_results_q1_memory.bin\n",
      "\n",
      "         4561048 function calls in 3.602 seconds\n",
      "\n",
      "   Ordered by: cumulative time\n",
      "   List reduced from 40 to 15 due to restriction <15>\n",
      "\n",
      "   ncalls  tottime  percall  cumtime  percall filename:lineno(function)\n",
      "        1    0.000    0.000    3.602    3.602 {built-in method builtins.exec}\n",
      "        1    0.000    0.000    3.602    3.602 <string>:1(<module>)\n",
      "        1    0.564    0.564    3.602    3.602 /Users/arllanos/repos/other/challenge_DE/src/q1_memory.py:6(q1_memory)\n",
      "   117407    0.056    0.000    1.865    0.000 /Users/arllanos/.pyenv/versions/3.9.16/lib/python3.9/json/__init__.py:299(loads)\n",
      "   117407    0.088    0.000    1.791    0.000 /Users/arllanos/.pyenv/versions/3.9.16/lib/python3.9/json/decoder.py:332(decode)\n",
      "   117407    1.641    0.000    1.641    0.000 /Users/arllanos/.pyenv/versions/3.9.16/lib/python3.9/json/decoder.py:343(raw_decode)\n",
      "   117407    0.033    0.000    1.119    0.000 {built-in method strptime}\n",
      "   117407    0.121    0.000    1.086    0.000 /Users/arllanos/.pyenv/versions/3.9.16/lib/python3.9/_strptime.py:565(_strptime_datetime)\n",
      "   117407    0.606    0.000    0.965    0.000 /Users/arllanos/.pyenv/versions/3.9.16/lib/python3.9/_strptime.py:309(_strptime)\n",
      "   117407    0.025    0.000    0.158    0.000 /Users/arllanos/.pyenv/versions/3.9.16/lib/python3.9/_strptime.py:26(_getlang)\n",
      "   117407    0.030    0.000    0.133    0.000 /Users/arllanos/.pyenv/versions/3.9.16/lib/python3.9/locale.py:577(getlocale)\n",
      "   352221    0.103    0.000    0.103    0.000 {method 'match' of 're.Pattern' objects}\n",
      "   117407    0.025    0.000    0.084    0.000 /Users/arllanos/.pyenv/versions/3.9.16/lib/python3.9/locale.py:469(_parse_localename)\n",
      "   117407    0.044    0.000    0.060    0.000 /Users/arllanos/.pyenv/versions/3.9.16/lib/python3.9/locale.py:386(normalize)\n",
      "   117407    0.051    0.000    0.051    0.000 {method 'groupdict' of 're.Match' objects}\n",
      "\n",
      "\n"
     ]
    }
   ],
   "source": [
    "time_profiling.run(q1_memory, file_path, 15)"
   ]
  },
  {
   "cell_type": "code",
   "execution_count": 76,
   "metadata": {},
   "outputs": [
    {
     "name": "stdout",
     "output_type": "stream",
     "text": [
      "Sun Feb 18 20:12:42 2024    profiling/time_cprofile_results_q2_time.bin\n",
      "\n",
      "         86266926 function calls (86266560 primitive calls) in 16.960 seconds\n",
      "\n",
      "   Ordered by: cumulative time\n",
      "   List reduced from 476 to 15 due to restriction <15>\n",
      "\n",
      "   ncalls  tottime  percall  cumtime  percall filename:lineno(function)\n",
      "        1    0.000    0.000   16.960   16.960 {built-in method builtins.exec}\n",
      "        1    0.305    0.305   16.960   16.960 <string>:1(<module>)\n",
      "        1    0.063    0.063   16.655   16.655 /Users/arllanos/repos/other/challenge_DE/src/q2_time.py:7(q2_time)\n",
      "   117407    0.029    0.000   12.299    0.000 /Users/arllanos/repos/other/challenge_DE/.venv/lib/python3.9/site-packages/emoji/core.py:283(emoji_list)\n",
      "   117407    2.090    0.000   12.270    0.000 /Users/arllanos/repos/other/challenge_DE/.venv/lib/python3.9/site-packages/emoji/core.py:290(<listcomp>)\n",
      " 17140706    6.394    0.000    9.513    0.000 /Users/arllanos/repos/other/challenge_DE/.venv/lib/python3.9/site-packages/emoji/tokenizer.py:158(tokenize)\n",
      "        1    0.029    0.029    4.293    4.293 /Users/arllanos/repos/other/challenge_DE/.venv/lib/python3.9/site-packages/pandas/io/json/_json.py:505(read_json)\n",
      "        1    0.005    0.005    4.036    4.036 /Users/arllanos/repos/other/challenge_DE/.venv/lib/python3.9/site-packages/pandas/io/json/_json.py:991(read)\n",
      "        1    0.000    0.000    3.657    3.657 /Users/arllanos/repos/other/challenge_DE/.venv/lib/python3.9/site-packages/pandas/io/json/_json.py:1033(_get_object_parser)\n",
      "        1    0.000    0.000    3.657    3.657 /Users/arllanos/repos/other/challenge_DE/.venv/lib/python3.9/site-packages/pandas/io/json/_json.py:1185(parse)\n",
      "        1    0.089    0.089    3.411    3.411 /Users/arllanos/repos/other/challenge_DE/.venv/lib/python3.9/site-packages/pandas/io/json/_json.py:1394(_parse)\n",
      "        1    2.940    2.940    2.949    2.949 {built-in method pandas._libs.json.ujson_loads}\n",
      " 17023302    1.450    0.000    2.625    0.000 <string>:1(<lambda>)\n",
      " 17023374    1.175    0.000    1.175    0.000 {built-in method __new__ of type object at 0x102ee3230}\n",
      "17031565/17031422    0.666    0.000    0.667    0.000 {built-in method builtins.isinstance}\n",
      "\n",
      "\n"
     ]
    }
   ],
   "source": [
    "time_profiling.run(q2_time, file_path, 15)"
   ]
  },
  {
   "cell_type": "code",
   "execution_count": 77,
   "metadata": {},
   "outputs": [
    {
     "name": "stdout",
     "output_type": "stream",
     "text": [
      "Sun Feb 18 20:12:57 2024    profiling/time_cprofile_results_q2_memory.bin\n",
      "\n",
      "         87138385 function calls in 15.124 seconds\n",
      "\n",
      "   Ordered by: cumulative time\n",
      "   List reduced from 39 to 15 due to restriction <15>\n",
      "\n",
      "   ncalls  tottime  percall  cumtime  percall filename:lineno(function)\n",
      "        1    0.000    0.000   15.124   15.124 {built-in method builtins.exec}\n",
      "        1    0.000    0.000   15.124   15.124 <string>:1(<module>)\n",
      "        1    0.563    0.563   15.124   15.124 /Users/arllanos/repos/other/challenge_DE/src/q2_memory.py:7(q2_memory)\n",
      "   117407    0.039    0.000   12.557    0.000 /Users/arllanos/repos/other/challenge_DE/.venv/lib/python3.9/site-packages/emoji/core.py:283(emoji_list)\n",
      "   117407    2.130    0.000   12.518    0.000 /Users/arllanos/repos/other/challenge_DE/.venv/lib/python3.9/site-packages/emoji/core.py:290(<listcomp>)\n",
      " 17140706    6.547    0.000    9.705    0.000 /Users/arllanos/repos/other/challenge_DE/.venv/lib/python3.9/site-packages/emoji/tokenizer.py:158(tokenize)\n",
      " 17023302    1.486    0.000    2.663    0.000 <string>:1(<lambda>)\n",
      "   117407    0.057    0.000    1.948    0.000 /Users/arllanos/.pyenv/versions/3.9.16/lib/python3.9/json/__init__.py:299(loads)\n",
      "   117407    0.088    0.000    1.872    0.000 /Users/arllanos/.pyenv/versions/3.9.16/lib/python3.9/json/decoder.py:332(decode)\n",
      "   117407    1.715    0.000    1.715    0.000 /Users/arllanos/.pyenv/versions/3.9.16/lib/python3.9/json/decoder.py:343(raw_decode)\n",
      " 17023302    1.177    0.000    1.177    0.000 {built-in method __new__ of type object at 0x102ee3230}\n",
      " 17140706    0.688    0.000    0.688    0.000 {built-in method builtins.isinstance}\n",
      " 17023305    0.473    0.000    0.473    0.000 {method 'append' of 'list' objects}\n",
      "   234814    0.048    0.000    0.048    0.000 {method 'match' of 're.Pattern' objects}\n",
      "    49772    0.019    0.000    0.048    0.000 /Users/arllanos/.pyenv/versions/3.9.16/lib/python3.9/codecs.py:319(decode)\n",
      "\n",
      "\n"
     ]
    }
   ],
   "source": [
    "time_profiling.run(q2_memory, file_path, 15)"
   ]
  },
  {
   "cell_type": "code",
   "execution_count": 78,
   "metadata": {},
   "outputs": [
    {
     "name": "stdout",
     "output_type": "stream",
     "text": [
      "Sun Feb 18 20:13:02 2024    profiling/time_cprofile_results_q3_time.bin\n",
      "\n",
      "         993863 function calls (993340 primitive calls) in 4.835 seconds\n",
      "\n",
      "   Ordered by: cumulative time\n",
      "   List reduced from 791 to 15 due to restriction <15>\n",
      "\n",
      "   ncalls  tottime  percall  cumtime  percall filename:lineno(function)\n",
      "        1    0.000    0.000    4.835    4.835 {built-in method builtins.exec}\n",
      "        1    0.319    0.319    4.835    4.835 <string>:1(<module>)\n",
      "        1    0.010    0.010    4.517    4.517 /Users/arllanos/repos/other/challenge_DE/src/q3_time.py:5(q3_time)\n",
      "        1    0.029    0.029    4.361    4.361 /Users/arllanos/repos/other/challenge_DE/.venv/lib/python3.9/site-packages/pandas/io/json/_json.py:505(read_json)\n",
      "        1    0.006    0.006    4.097    4.097 /Users/arllanos/repos/other/challenge_DE/.venv/lib/python3.9/site-packages/pandas/io/json/_json.py:991(read)\n",
      "        1    0.000    0.000    3.727    3.727 /Users/arllanos/repos/other/challenge_DE/.venv/lib/python3.9/site-packages/pandas/io/json/_json.py:1033(_get_object_parser)\n",
      "        1    0.000    0.000    3.727    3.727 /Users/arllanos/repos/other/challenge_DE/.venv/lib/python3.9/site-packages/pandas/io/json/_json.py:1185(parse)\n",
      "        1    0.095    0.095    3.473    3.473 /Users/arllanos/repos/other/challenge_DE/.venv/lib/python3.9/site-packages/pandas/io/json/_json.py:1394(_parse)\n",
      "        1    2.968    2.968    2.981    2.981 {built-in method pandas._libs.json.ujson_loads}\n",
      "        5    0.000    0.000    0.529    0.106 /Users/arllanos/repos/other/challenge_DE/.venv/lib/python3.9/site-packages/pandas/core/frame.py:683(__init__)\n",
      "        1    0.000    0.000    0.316    0.316 /Users/arllanos/repos/other/challenge_DE/.venv/lib/python3.9/site-packages/pandas/core/internals/construction.py:506(nested_data_to_arrays)\n",
      "        1    0.001    0.001    0.316    0.316 /Users/arllanos/repos/other/challenge_DE/.venv/lib/python3.9/site-packages/pandas/core/internals/construction.py:793(to_arrays)\n",
      "        1    0.011    0.011    0.253    0.253 /Users/arllanos/repos/other/challenge_DE/.venv/lib/python3.9/site-packages/pandas/io/json/_json.py:1460(_try_convert_types)\n",
      "        1    0.000    0.000    0.235    0.235 /Users/arllanos/repos/other/challenge_DE/.venv/lib/python3.9/site-packages/pandas/io/json/_json.py:827(__init__)\n",
      "        1    0.000    0.000    0.235    0.235 /Users/arllanos/repos/other/challenge_DE/.venv/lib/python3.9/site-packages/pandas/io/json/_json.py:907(_preprocess_data)\n",
      "\n",
      "\n"
     ]
    }
   ],
   "source": [
    "time_profiling.run(q3_time, file_path, 15)"
   ]
  },
  {
   "cell_type": "code",
   "execution_count": 79,
   "metadata": {},
   "outputs": [
    {
     "name": "stdout",
     "output_type": "stream",
     "text": [
      "Sun Feb 18 20:13:12 2024    profiling/time_cprofile_results_q3_memory.bin\n",
      "\n",
      "         11998762 function calls (11725552 primitive calls) in 9.619 seconds\n",
      "\n",
      "   Ordered by: cumulative time\n",
      "   List reduced from 862 to 15 due to restriction <15>\n",
      "\n",
      "   ncalls  tottime  percall  cumtime  percall filename:lineno(function)\n",
      "        1    0.000    0.000    9.619    9.619 {built-in method builtins.exec}\n",
      "        1    0.001    0.001    9.619    9.619 <string>:1(<module>)\n",
      "        1    0.554    0.554    9.618    9.618 /Users/arllanos/repos/other/challenge_DE/src/q3_memory.py:5(q3_memory)\n",
      "      471    0.412    0.001    5.557    0.012 /Users/arllanos/repos/other/challenge_DE/.venv/lib/python3.9/site-packages/pandas/io/json/_json.py:1085(__next__)\n",
      "      470    0.003    0.000    4.976    0.011 /Users/arllanos/repos/other/challenge_DE/.venv/lib/python3.9/site-packages/pandas/io/json/_json.py:1033(_get_object_parser)\n",
      "      470    0.002    0.000    4.972    0.011 /Users/arllanos/repos/other/challenge_DE/.venv/lib/python3.9/site-packages/pandas/io/json/_json.py:1185(parse)\n",
      "      470    0.183    0.000    2.490    0.005 /Users/arllanos/repos/other/challenge_DE/.venv/lib/python3.9/site-packages/pandas/io/json/_json.py:1394(_parse)\n",
      "      470    0.001    0.000    2.234    0.005 /Users/arllanos/repos/other/challenge_DE/.venv/lib/python3.9/site-packages/pandas/core/series.py:6284(add)\n",
      "      470    0.011    0.000    2.234    0.005 /Users/arllanos/repos/other/challenge_DE/.venv/lib/python3.9/site-packages/pandas/core/series.py:6219(_flex_method)\n",
      "      470    0.005    0.000    2.221    0.005 /Users/arllanos/repos/other/challenge_DE/.venv/lib/python3.9/site-packages/pandas/core/series.py:6148(_binop)\n",
      "      470    0.028    0.000    2.169    0.005 /Users/arllanos/repos/other/challenge_DE/.venv/lib/python3.9/site-packages/pandas/core/generic.py:10179(align)\n",
      "      470    0.002    0.000    2.137    0.005 /Users/arllanos/repos/other/challenge_DE/.venv/lib/python3.9/site-packages/pandas/core/generic.py:10529(_align_series)\n",
      "      940    0.001    0.000    2.125    0.002 /Users/arllanos/repos/other/challenge_DE/.venv/lib/python3.9/site-packages/pandas/core/indexes/base.py:269(join)\n",
      "      940    0.006    0.000    2.123    0.002 /Users/arllanos/repos/other/challenge_DE/.venv/lib/python3.9/site-packages/pandas/core/indexes/base.py:4554(join)\n",
      "      470    0.011    0.000    1.986    0.004 /Users/arllanos/repos/other/challenge_DE/.venv/lib/python3.9/site-packages/pandas/io/json/_json.py:1460(_try_convert_types)\n",
      "\n",
      "\n"
     ]
    }
   ],
   "source": [
    "time_profiling.run(q3_memory, file_path, 15)"
   ]
  },
  {
   "cell_type": "markdown",
   "metadata": {},
   "source": [
    "## Memory Profiling with Memray\n",
    "Si bien Memray puede proporcionar diferentes tipos de reportes, por simplicidad en este challenge se utiliza `stats`, el cual provee high level stats del uso de memoria. Si se desea analizar el uso de memoria desde otra perspectiva se pueden generar otro tipos de reporte a partir del archivo generado en el directorio `profiling/`.\n",
    "\n",
    "Ejemplo para generar `html` con representacion visual flamegraph:\n",
    "1. Generar bin file para q1_memory\n",
    "    ```bash\n",
    "    FUNC=q1_memory\n",
    "    FILE_PATH=data/farmers-protest-tweets-2021-2-4.json\n",
    "    python3 -m memray run src/profiling/memory_profiling.py $FUNC $FILE_PATH\n",
    "    ```\n",
    "1. Generar flamegraph\n",
    "    ```bash\n",
    "    # reemplazar `path/to/bin/file` con el bin file generado en el punto anterior\n",
    "    python3 -m memray flamegraph path/to/bin/file\n",
    "    ```\n",
    "\n",
    "El reporte `stats` generado incluye lo siguiente.\n",
    "\n",
    "📏 **Total allocations**: Indica el número total de veces que se reservó memoria durante la ejecución del script.\n",
    "\n",
    "📦 **Total memory allocated**: Muestra la cantidad total de memoria asignada durante la ejecución, lo cual es crucial para entender la demanda de memoria del script.\n",
    "\n",
    "📊 **Histogram of allocation size**: Este histograma ofrece una vista rápida de los rangos de tamaño de las asignaciones de memoria, lo que ayuda a identificar si la mayoría de las asignaciones son grandes o pequeñas.\n",
    "\n",
    "📂 **Allocator type distribution**: Esta sección desglosa el tipo de asignaciones de memoria (como MALLOC, MMAP, etc.) utilizadas en el script, proporcionando una idea de las operaciones de memoria subyacentes.\n",
    "\n",
    "🥇 **Top 5 largest allocating locations (by size)** y 🥇 **Top 5 largest allocating locations (by number of allocations)**: Aquí se destacan las funciones o líneas de código que más memoria asignan, tanto en términos de tamaño como de cantidad de asignaciones, importante para identificar partes del código que pueden ser optimizadas en el uso de la memoria.\n",
    "\n",
    "**NOTA**: Memray stats crea el reporte en profiling/memray_stats.ans. Este archivo incluye códigos ANSI, por lo tanto, opcionalmente, puedes usar una extensión compatible, como \"ANSI Colors\" en VSCode, para una mejor visualización."
   ]
  },
  {
   "cell_type": "code",
   "execution_count": 80,
   "metadata": {},
   "outputs": [
    {
     "data": {
      "text/html": [
       "<a href=\"/Users/arllanos/repos/other/challenge_DE/src/profiling/memray-memory_profiling_stats.ans\" target=\"_blank\">Open Memray Profiling Output</a>"
      ],
      "text/plain": [
       "<IPython.core.display.HTML object>"
      ]
     },
     "metadata": {},
     "output_type": "display_data"
    }
   ],
   "source": [
    "output_file = f\"{project_root}/src/profiling/memray-memory_profiling_stats.ans\"\n",
    "\n",
    "# Run the profiling scripts and direct output to the file\n",
    "!{project_root}/src/profiling/memory_profiling.sh q1_time {file_path} > {output_file} 2>&1\n",
    "!{project_root}/src/profiling/memory_profiling.sh q1_memory {file_path} >> {output_file} 2>&1\n",
    "!{project_root}/src/profiling/memory_profiling.sh q2_time {file_path} >> {output_file} 2>&1\n",
    "!{project_root}/src/profiling/memory_profiling.sh q2_memory {file_path} >> {output_file} 2>&1\n",
    "!{project_root}/src/profiling/memory_profiling.sh q3_time {file_path} >> {output_file} 2>&1\n",
    "!{project_root}/src/profiling/memory_profiling.sh q3_memory {file_path} >> {output_file} 2>&1\n",
    "\n",
    "# Generate a clickable link to the output file\n",
    "from IPython.display import display, HTML\n",
    "link = f'<a href=\"{output_file}\" target=\"_blank\">Open Memray Profiling Output</a>'\n",
    "display(HTML(link))"
   ]
  },
  {
   "cell_type": "code",
   "execution_count": null,
   "metadata": {},
   "outputs": [],
   "source": []
  }
 ],
 "metadata": {
  "kernelspec": {
   "display_name": ".venv",
   "language": "python",
   "name": "python3"
  },
  "language_info": {
   "codemirror_mode": {
    "name": "ipython",
    "version": 3
   },
   "file_extension": ".py",
   "mimetype": "text/x-python",
   "name": "python",
   "nbconvert_exporter": "python",
   "pygments_lexer": "ipython3",
   "version": "3.9.16"
  },
  "orig_nbformat": 4
 },
 "nbformat": 4,
 "nbformat_minor": 2
}
