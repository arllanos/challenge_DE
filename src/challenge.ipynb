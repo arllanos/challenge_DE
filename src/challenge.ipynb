{
 "cells": [
  {
   "cell_type": "markdown",
   "metadata": {},
   "source": [
    "# DE Challenge\n",
    "## Introducción\n",
    "### Acerca del Challenge y la Solución\n",
    "\n",
    "Este desafío me ha resultado muy interesante. Tambien estimulante por el hecho de tener abierta la elección de las librerias con las cual escribir la solución.\n",
    "\n",
    "### Spark, Dask o Data Structures Core de Python?\n",
    "Para completar este challenge consideré usar tecnologias distribuídas o cloud, lo cual creo que hubiera introducido complejidad en el acceso y/o ejecución de la solución. \n",
    "\n",
    "Por otro lado, tras evaluar el contenido y tamaño del dataset, decidí que usar solución distribuída como Dask o Spark sería un \"overkill\" para la tarea.\n",
    "\n",
    "Dicho esto, he tratado de balancear estos puntos, inclinándome por uso de Pandas y estructuras de datos core de Python y a su vez, usar Spark primariamente como una forma de analizar y explorar los datos.\n",
    "\n",
    "### Jupyter Notebook Complementario (Spark)\n",
    "Como explico mas arriba, he realizado pruebas con Spark en un [jupyter notebook separado](./eda_spark.ipynb). El propósito de este, fué realizar exploración de los datos y validar resultados de las differentes funciones Q1, Q2 y Q3.\n",
    "\n",
    "### Unit Tests\n",
    "Se escribieron unit tests los cuales se pueden ejecutar de la siguiente manera:\n",
    "```bash\n",
    "pytest tests --capture=no --tb=line -v\n",
    "```\n",
    "\n",
    "### Estrategia de Branching\n",
    "Utilicé [github-flow](https://docs.github.com/en/get-started/using-github/github-flow) como modelo para el desarrollo en GitHub.\n",
    "\n",
    "### Notas de la Solución y Areas de Mejora\n",
    "Durante el desarrollo de este proyecto, tomé algunas decisiones de implementación basadas en las limitaciones de tiempo y los objetivos del challenge. Aunque el proyecto creo que logra los objetivos principales, debo reconocer algunas áreas donde se podrían hacer mejoras y refinamientos.\n",
    "\n",
    "- **Code Coverage**\n",
    "\n",
    "    Aunque he implementado unit tests usando pytest, la code coverage podría ser mejorada.\n",
    "\n",
    "- **Calidad del Código y Mantenibilidad**\n",
    "\n",
    "    Mantener un equilibrio entre la velocidad de entrega y la calidad del código puede ser desafiante, y en este proyecto, puede que haya hecho algunos trade-offs.\n",
    "\n",
    "- **Integración Continua (CI)**\n",
    "\n",
    "    Creo mucho en los beneficios de CI/CD. Aunque este proyecto actualmente carece de una CI, una cosa que configuraría es un pipeline de Integración Continua (CI) usando GitHub Actions para automatizar la ejecución de unit tests e iniciar algunas verificaciones de calidad como linting."
   ]
  },
  {
   "cell_type": "markdown",
   "metadata": {},
   "source": [
    "## Project Setup\n",
    "\n",
    "1. Crear virtual environment (`.venv`) en el root directory e instalar todas las project dependencies\n",
    "    ```sh\n",
    "    python3 -m venv .venv\n",
    "    source .venv/bin/activate\n",
    "    pip install -r requirements.txt\n",
    "    ```\n",
    "1. Descargar y proveer los datos\n",
    "\n",
    "    Descarga manualmente https://drive.google.com/file/d/1ig2ngoXFTxP5Pa8muXo02mDTFexZzsis/view?usp=sharing, y extrae del archivo `.zip` el json file.\n",
    "    El archivo extraído debe ser copiado a la carpeta `data/`."
   ]
  },
  {
   "cell_type": "markdown",
   "metadata": {},
   "source": [
    "## Initialization of Notebook and Variables"
   ]
  },
  {
   "cell_type": "code",
   "execution_count": 1,
   "metadata": {},
   "outputs": [],
   "source": [
    "# enable the autoreload extension and configure it for automatic module's reload\n",
    "%load_ext autoreload\n",
    "%autoreload 2"
   ]
  },
  {
   "cell_type": "code",
   "execution_count": 2,
   "metadata": {},
   "outputs": [],
   "source": [
    "import subprocess\n",
    "\n",
    "file_path = \"../data/farmers-protest-tweets-2021-2-4.json\"\n",
    "# file_path = \"../data/farmers-protest-tweets-2021-2-4-small.json\"\n",
    "project_root = subprocess.check_output(\"git rev-parse --show-toplevel\", shell=True).decode('utf-8').strip()"
   ]
  },
  {
   "cell_type": "markdown",
   "metadata": {},
   "source": [
    "## Execution of Q1 Functions\n",
    "Top 10 fechas donde hay más tweets. Mencionar el usuario (username) que más publicaciones tiene por cada uno de esos días. "
   ]
  },
  {
   "cell_type": "code",
   "execution_count": 3,
   "metadata": {},
   "outputs": [],
   "source": [
    "from q1_time import q1_time\n",
    "from q1_memory import q1_memory"
   ]
  },
  {
   "cell_type": "code",
   "execution_count": 4,
   "metadata": {},
   "outputs": [
    {
     "data": {
      "text/plain": [
       "[(datetime.date(2021, 2, 12), 'RanbirS00614606'),\n",
       " (datetime.date(2021, 2, 13), 'MaanDee08215437'),\n",
       " (datetime.date(2021, 2, 14), 'rebelpacifist'),\n",
       " (datetime.date(2021, 2, 15), 'jot__b'),\n",
       " (datetime.date(2021, 2, 16), 'jot__b'),\n",
       " (datetime.date(2021, 2, 17), 'RaaJVinderkaur'),\n",
       " (datetime.date(2021, 2, 18), 'neetuanjle_nitu'),\n",
       " (datetime.date(2021, 2, 19), 'Preetm91'),\n",
       " (datetime.date(2021, 2, 20), 'MangalJ23056160'),\n",
       " (datetime.date(2021, 2, 23), 'Surrypuria')]"
      ]
     },
     "execution_count": 4,
     "metadata": {},
     "output_type": "execute_result"
    }
   ],
   "source": [
    "q1_time(file_path)"
   ]
  },
  {
   "cell_type": "code",
   "execution_count": 5,
   "metadata": {},
   "outputs": [
    {
     "data": {
      "text/plain": [
       "[(datetime.date(2021, 2, 12), 'RanbirS00614606'),\n",
       " (datetime.date(2021, 2, 13), 'MaanDee08215437'),\n",
       " (datetime.date(2021, 2, 17), 'RaaJVinderkaur'),\n",
       " (datetime.date(2021, 2, 16), 'jot__b'),\n",
       " (datetime.date(2021, 2, 14), 'rebelpacifist'),\n",
       " (datetime.date(2021, 2, 18), 'neetuanjle_nitu'),\n",
       " (datetime.date(2021, 2, 15), 'jot__b'),\n",
       " (datetime.date(2021, 2, 20), 'MangalJ23056160'),\n",
       " (datetime.date(2021, 2, 23), 'Surrypuria'),\n",
       " (datetime.date(2021, 2, 19), 'Preetm91')]"
      ]
     },
     "execution_count": 5,
     "metadata": {},
     "output_type": "execute_result"
    }
   ],
   "source": [
    "q1_memory(file_path)"
   ]
  },
  {
   "cell_type": "markdown",
   "metadata": {},
   "source": [
    "## Execution of Q2 Functions\n",
    "Top 10 emojis más usados con su respectivo conteo."
   ]
  },
  {
   "cell_type": "code",
   "execution_count": 6,
   "metadata": {},
   "outputs": [],
   "source": [
    "from q2_time import q2_time\n",
    "from q2_memory import q2_memory"
   ]
  },
  {
   "cell_type": "code",
   "execution_count": 7,
   "metadata": {},
   "outputs": [
    {
     "data": {
      "text/plain": [
       "[('🙏', 5049),\n",
       " ('😂', 3072),\n",
       " ('🚜', 2972),\n",
       " ('🌾', 2182),\n",
       " ('🇮🇳', 2086),\n",
       " ('🤣', 1668),\n",
       " ('✊', 1651),\n",
       " ('❤️', 1382),\n",
       " ('🙏🏻', 1317),\n",
       " ('💚', 1040)]"
      ]
     },
     "execution_count": 7,
     "metadata": {},
     "output_type": "execute_result"
    }
   ],
   "source": [
    "q2_time(file_path)"
   ]
  },
  {
   "cell_type": "code",
   "execution_count": 8,
   "metadata": {},
   "outputs": [
    {
     "data": {
      "text/plain": [
       "[('🙏', 5049),\n",
       " ('😂', 3072),\n",
       " ('🚜', 2972),\n",
       " ('🌾', 2182),\n",
       " ('🇮🇳', 2086),\n",
       " ('🤣', 1668),\n",
       " ('✊', 1651),\n",
       " ('❤️', 1382),\n",
       " ('🙏🏻', 1317),\n",
       " ('💚', 1040)]"
      ]
     },
     "execution_count": 8,
     "metadata": {},
     "output_type": "execute_result"
    }
   ],
   "source": [
    "q2_memory(file_path)"
   ]
  },
  {
   "cell_type": "markdown",
   "metadata": {},
   "source": [
    "## Execution of Q3 Functions\n",
    "Top 10 histórico de usuarios (username) más influyentes en función del conteo de las menciones (@) que registra cada uno de ellos."
   ]
  },
  {
   "cell_type": "code",
   "execution_count": 9,
   "metadata": {},
   "outputs": [],
   "source": [
    "from q3_time import q3_time\n",
    "from q3_memory import q3_memory"
   ]
  },
  {
   "cell_type": "code",
   "execution_count": 10,
   "metadata": {},
   "outputs": [
    {
     "data": {
      "text/plain": [
       "[('narendramodi', 2265),\n",
       " ('Kisanektamorcha', 1840),\n",
       " ('RakeshTikaitBKU', 1644),\n",
       " ('PMOIndia', 1427),\n",
       " ('RahulGandhi', 1146),\n",
       " ('GretaThunberg', 1048),\n",
       " ('RaviSinghKA', 1019),\n",
       " ('rihanna', 986),\n",
       " ('UNHumanRights', 962),\n",
       " ('meenaharris', 926)]"
      ]
     },
     "execution_count": 10,
     "metadata": {},
     "output_type": "execute_result"
    }
   ],
   "source": [
    "q3_time(file_path)"
   ]
  },
  {
   "cell_type": "code",
   "execution_count": 11,
   "metadata": {},
   "outputs": [
    {
     "data": {
      "text/plain": [
       "[('narendramodi', 2265.0),\n",
       " ('Kisanektamorcha', 1840.0),\n",
       " ('RakeshTikaitBKU', 1644.0),\n",
       " ('PMOIndia', 1427.0),\n",
       " ('RahulGandhi', 1146.0),\n",
       " ('GretaThunberg', 1048.0),\n",
       " ('RaviSinghKA', 1019.0),\n",
       " ('rihanna', 986.0),\n",
       " ('UNHumanRights', 962.0),\n",
       " ('meenaharris', 926.0)]"
      ]
     },
     "execution_count": 11,
     "metadata": {},
     "output_type": "execute_result"
    }
   ],
   "source": [
    "q3_memory(file_path)"
   ]
  },
  {
   "cell_type": "markdown",
   "metadata": {},
   "source": [
    "## Time Profiling with cProfile\n",
    "\n",
    "El report de cProfile muestra la siguiente información:\n",
    "1. Informacion general de la forma **`N` function calls in `S` seconds**. \n",
    "2. Información detallada en la Tabla de Perfil.\n",
    "    - La información esta ordenada por tiempo acumulativo, `cumtime`, que es el tiempo total empleado en cada función, incluyendo el tiempo en todas las subfunciones que son llamadas.\n",
    "    - Las unidades en las columnas `tottime`, `percall`, `cumtime` y `percall` están expresadas en segundos."
   ]
  },
  {
   "cell_type": "code",
   "execution_count": 12,
   "metadata": {},
   "outputs": [],
   "source": [
    "from profiling import time_profiling"
   ]
  },
  {
   "cell_type": "code",
   "execution_count": 13,
   "metadata": {},
   "outputs": [
    {
     "name": "stdout",
     "output_type": "stream",
     "text": [
      "Sun Feb 18 20:31:43 2024    profiling/time_cprofile_results_q1_time.bin\n",
      "\n",
      "         646080 function calls (645532 primitive calls) in 4.901 seconds\n",
      "\n",
      "   Ordered by: cumulative time\n",
      "   List reduced from 836 to 15 due to restriction <15>\n",
      "\n",
      "   ncalls  tottime  percall  cumtime  percall filename:lineno(function)\n",
      "        1    0.000    0.000    4.901    4.901 {built-in method builtins.exec}\n",
      "        1    0.364    0.364    4.901    4.901 <string>:1(<module>)\n",
      "        1    0.008    0.008    4.538    4.538 /Users/arllanos/repos/other/challenge_DE/src/q1_time.py:5(q1_time)\n",
      "        1    0.030    0.030    4.415    4.415 /Users/arllanos/repos/other/challenge_DE/.venv/lib/python3.9/site-packages/pandas/io/json/_json.py:505(read_json)\n",
      "        1    0.005    0.005    4.151    4.151 /Users/arllanos/repos/other/challenge_DE/.venv/lib/python3.9/site-packages/pandas/io/json/_json.py:991(read)\n",
      "        1    0.000    0.000    3.770    3.770 /Users/arllanos/repos/other/challenge_DE/.venv/lib/python3.9/site-packages/pandas/io/json/_json.py:1033(_get_object_parser)\n",
      "        1    0.000    0.000    3.770    3.770 /Users/arllanos/repos/other/challenge_DE/.venv/lib/python3.9/site-packages/pandas/io/json/_json.py:1185(parse)\n",
      "        1    0.090    0.090    3.525    3.525 /Users/arllanos/repos/other/challenge_DE/.venv/lib/python3.9/site-packages/pandas/io/json/_json.py:1394(_parse)\n",
      "        1    3.032    3.032    3.043    3.043 {built-in method pandas._libs.json.ujson_loads}\n",
      "        3    0.000    0.000    0.514    0.171 /Users/arllanos/repos/other/challenge_DE/.venv/lib/python3.9/site-packages/pandas/core/frame.py:683(__init__)\n",
      "        1    0.000    0.000    0.315    0.315 /Users/arllanos/repos/other/challenge_DE/.venv/lib/python3.9/site-packages/pandas/core/internals/construction.py:506(nested_data_to_arrays)\n",
      "        1    0.001    0.001    0.315    0.315 /Users/arllanos/repos/other/challenge_DE/.venv/lib/python3.9/site-packages/pandas/core/internals/construction.py:793(to_arrays)\n",
      "        1    0.010    0.010    0.243    0.243 /Users/arllanos/repos/other/challenge_DE/.venv/lib/python3.9/site-packages/pandas/io/json/_json.py:1460(_try_convert_types)\n",
      "        1    0.000    0.000    0.234    0.234 /Users/arllanos/repos/other/challenge_DE/.venv/lib/python3.9/site-packages/pandas/io/json/_json.py:827(__init__)\n",
      "        1    0.000    0.000    0.234    0.234 /Users/arllanos/repos/other/challenge_DE/.venv/lib/python3.9/site-packages/pandas/io/json/_json.py:907(_preprocess_data)\n",
      "\n",
      "\n"
     ]
    }
   ],
   "source": [
    "time_profiling.run(q1_time, file_path, 15)"
   ]
  },
  {
   "cell_type": "code",
   "execution_count": 14,
   "metadata": {},
   "outputs": [
    {
     "name": "stdout",
     "output_type": "stream",
     "text": [
      "Sun Feb 18 20:31:47 2024    profiling/time_cprofile_results_q1_memory.bin\n",
      "\n",
      "         4561048 function calls in 3.547 seconds\n",
      "\n",
      "   Ordered by: cumulative time\n",
      "   List reduced from 40 to 15 due to restriction <15>\n",
      "\n",
      "   ncalls  tottime  percall  cumtime  percall filename:lineno(function)\n",
      "        1    0.000    0.000    3.547    3.547 {built-in method builtins.exec}\n",
      "        1    0.001    0.001    3.547    3.547 <string>:1(<module>)\n",
      "        1    0.555    0.555    3.546    3.546 /Users/arllanos/repos/other/challenge_DE/src/q1_memory.py:6(q1_memory)\n",
      "   117407    0.055    0.000    1.831    0.000 /Users/arllanos/.pyenv/versions/3.9.16/lib/python3.9/json/__init__.py:299(loads)\n",
      "   117407    0.086    0.000    1.757    0.000 /Users/arllanos/.pyenv/versions/3.9.16/lib/python3.9/json/decoder.py:332(decode)\n",
      "   117407    1.611    0.000    1.611    0.000 /Users/arllanos/.pyenv/versions/3.9.16/lib/python3.9/json/decoder.py:343(raw_decode)\n",
      "   117407    0.031    0.000    1.108    0.000 {built-in method strptime}\n",
      "   117407    0.120    0.000    1.077    0.000 /Users/arllanos/.pyenv/versions/3.9.16/lib/python3.9/_strptime.py:565(_strptime_datetime)\n",
      "   117407    0.601    0.000    0.957    0.000 /Users/arllanos/.pyenv/versions/3.9.16/lib/python3.9/_strptime.py:309(_strptime)\n",
      "   117407    0.024    0.000    0.158    0.000 /Users/arllanos/.pyenv/versions/3.9.16/lib/python3.9/_strptime.py:26(_getlang)\n",
      "   117407    0.031    0.000    0.133    0.000 /Users/arllanos/.pyenv/versions/3.9.16/lib/python3.9/locale.py:577(getlocale)\n",
      "   352221    0.103    0.000    0.103    0.000 {method 'match' of 're.Pattern' objects}\n",
      "   117407    0.024    0.000    0.084    0.000 /Users/arllanos/.pyenv/versions/3.9.16/lib/python3.9/locale.py:469(_parse_localename)\n",
      "   117407    0.045    0.000    0.060    0.000 /Users/arllanos/.pyenv/versions/3.9.16/lib/python3.9/locale.py:386(normalize)\n",
      "   117407    0.050    0.000    0.050    0.000 {method 'groupdict' of 're.Match' objects}\n",
      "\n",
      "\n"
     ]
    }
   ],
   "source": [
    "time_profiling.run(q1_memory, file_path, 15)"
   ]
  },
  {
   "cell_type": "code",
   "execution_count": 15,
   "metadata": {},
   "outputs": [
    {
     "name": "stdout",
     "output_type": "stream",
     "text": [
      "Sun Feb 18 20:32:04 2024    profiling/time_cprofile_results_q2_time.bin\n",
      "\n",
      "         86266926 function calls (86266560 primitive calls) in 17.043 seconds\n",
      "\n",
      "   Ordered by: cumulative time\n",
      "   List reduced from 476 to 15 due to restriction <15>\n",
      "\n",
      "   ncalls  tottime  percall  cumtime  percall filename:lineno(function)\n",
      "        1    0.000    0.000   17.043   17.043 {built-in method builtins.exec}\n",
      "        1    0.318    0.318   17.043   17.043 <string>:1(<module>)\n",
      "        1    0.067    0.067   16.725   16.725 /Users/arllanos/repos/other/challenge_DE/src/q2_time.py:7(q2_time)\n",
      "   117407    0.030    0.000   12.379    0.000 /Users/arllanos/repos/other/challenge_DE/.venv/lib/python3.9/site-packages/emoji/core.py:283(emoji_list)\n",
      "   117407    2.100    0.000   12.349    0.000 /Users/arllanos/repos/other/challenge_DE/.venv/lib/python3.9/site-packages/emoji/core.py:290(<listcomp>)\n",
      " 17140706    6.448    0.000    9.577    0.000 /Users/arllanos/repos/other/challenge_DE/.venv/lib/python3.9/site-packages/emoji/tokenizer.py:158(tokenize)\n",
      "        1    0.032    0.032    4.279    4.279 /Users/arllanos/repos/other/challenge_DE/.venv/lib/python3.9/site-packages/pandas/io/json/_json.py:505(read_json)\n",
      "        1    0.005    0.005    4.015    4.015 /Users/arllanos/repos/other/challenge_DE/.venv/lib/python3.9/site-packages/pandas/io/json/_json.py:991(read)\n",
      "        1    0.000    0.000    3.625    3.625 /Users/arllanos/repos/other/challenge_DE/.venv/lib/python3.9/site-packages/pandas/io/json/_json.py:1033(_get_object_parser)\n",
      "        1    0.000    0.000    3.625    3.625 /Users/arllanos/repos/other/challenge_DE/.venv/lib/python3.9/site-packages/pandas/io/json/_json.py:1185(parse)\n",
      "        1    0.094    0.094    3.368    3.368 /Users/arllanos/repos/other/challenge_DE/.venv/lib/python3.9/site-packages/pandas/io/json/_json.py:1394(_parse)\n",
      "        1    2.854    2.854    2.865    2.865 {built-in method pandas._libs.json.ujson_loads}\n",
      " 17023302    1.450    0.000    2.629    0.000 <string>:1(<lambda>)\n",
      " 17023374    1.180    0.000    1.180    0.000 {built-in method __new__ of type object at 0x100d5b230}\n",
      "17031565/17031422    0.672    0.000    0.672    0.000 {built-in method builtins.isinstance}\n",
      "\n",
      "\n"
     ]
    }
   ],
   "source": [
    "time_profiling.run(q2_time, file_path, 15)"
   ]
  },
  {
   "cell_type": "code",
   "execution_count": 16,
   "metadata": {},
   "outputs": [
    {
     "name": "stdout",
     "output_type": "stream",
     "text": [
      "Sun Feb 18 20:32:19 2024    profiling/time_cprofile_results_q2_memory.bin\n",
      "\n",
      "         87138385 function calls in 15.066 seconds\n",
      "\n",
      "   Ordered by: cumulative time\n",
      "   List reduced from 39 to 15 due to restriction <15>\n",
      "\n",
      "   ncalls  tottime  percall  cumtime  percall filename:lineno(function)\n",
      "        1    0.000    0.000   15.066   15.066 {built-in method builtins.exec}\n",
      "        1    0.000    0.000   15.066   15.066 <string>:1(<module>)\n",
      "        1    0.553    0.553   15.066   15.066 /Users/arllanos/repos/other/challenge_DE/src/q2_memory.py:7(q2_memory)\n",
      "   117407    0.036    0.000   12.546    0.000 /Users/arllanos/repos/other/challenge_DE/.venv/lib/python3.9/site-packages/emoji/core.py:283(emoji_list)\n",
      "   117407    2.138    0.000   12.510    0.000 /Users/arllanos/repos/other/challenge_DE/.venv/lib/python3.9/site-packages/emoji/core.py:290(<listcomp>)\n",
      " 17140706    6.532    0.000    9.694    0.000 /Users/arllanos/repos/other/challenge_DE/.venv/lib/python3.9/site-packages/emoji/tokenizer.py:158(tokenize)\n",
      " 17023302    1.471    0.000    2.672    0.000 <string>:1(<lambda>)\n",
      "   117407    0.055    0.000    1.911    0.000 /Users/arllanos/.pyenv/versions/3.9.16/lib/python3.9/json/__init__.py:299(loads)\n",
      "   117407    0.088    0.000    1.837    0.000 /Users/arllanos/.pyenv/versions/3.9.16/lib/python3.9/json/decoder.py:332(decode)\n",
      "   117407    1.683    0.000    1.683    0.000 /Users/arllanos/.pyenv/versions/3.9.16/lib/python3.9/json/decoder.py:343(raw_decode)\n",
      " 17023302    1.201    0.000    1.201    0.000 {built-in method __new__ of type object at 0x100d5b230}\n",
      " 17140706    0.683    0.000    0.683    0.000 {built-in method builtins.isinstance}\n",
      " 17023305    0.467    0.000    0.467    0.000 {method 'append' of 'list' objects}\n",
      "    49772    0.019    0.000    0.048    0.000 /Users/arllanos/.pyenv/versions/3.9.16/lib/python3.9/codecs.py:319(decode)\n",
      "   234814    0.048    0.000    0.048    0.000 {method 'match' of 're.Pattern' objects}\n",
      "\n",
      "\n"
     ]
    }
   ],
   "source": [
    "time_profiling.run(q2_memory, file_path, 15)"
   ]
  },
  {
   "cell_type": "code",
   "execution_count": 17,
   "metadata": {},
   "outputs": [
    {
     "name": "stdout",
     "output_type": "stream",
     "text": [
      "Sun Feb 18 20:32:24 2024    profiling/time_cprofile_results_q3_time.bin\n",
      "\n",
      "         993863 function calls (993340 primitive calls) in 4.907 seconds\n",
      "\n",
      "   Ordered by: cumulative time\n",
      "   List reduced from 791 to 15 due to restriction <15>\n",
      "\n",
      "   ncalls  tottime  percall  cumtime  percall filename:lineno(function)\n",
      "        1    0.000    0.000    4.907    4.907 {built-in method builtins.exec}\n",
      "        1    0.314    0.314    4.907    4.907 <string>:1(<module>)\n",
      "        1    0.009    0.009    4.593    4.593 /Users/arllanos/repos/other/challenge_DE/src/q3_time.py:5(q3_time)\n",
      "        1    0.033    0.033    4.433    4.433 /Users/arllanos/repos/other/challenge_DE/.venv/lib/python3.9/site-packages/pandas/io/json/_json.py:505(read_json)\n",
      "        1    0.005    0.005    4.171    4.171 /Users/arllanos/repos/other/challenge_DE/.venv/lib/python3.9/site-packages/pandas/io/json/_json.py:991(read)\n",
      "        1    0.000    0.000    3.805    3.805 /Users/arllanos/repos/other/challenge_DE/.venv/lib/python3.9/site-packages/pandas/io/json/_json.py:1033(_get_object_parser)\n",
      "        1    0.000    0.000    3.805    3.805 /Users/arllanos/repos/other/challenge_DE/.venv/lib/python3.9/site-packages/pandas/io/json/_json.py:1185(parse)\n",
      "        1    0.090    0.090    3.558    3.558 /Users/arllanos/repos/other/challenge_DE/.venv/lib/python3.9/site-packages/pandas/io/json/_json.py:1394(_parse)\n",
      "        1    3.086    3.086    3.095    3.095 {built-in method pandas._libs.json.ujson_loads}\n",
      "        5    0.000    0.000    0.499    0.100 /Users/arllanos/repos/other/challenge_DE/.venv/lib/python3.9/site-packages/pandas/core/frame.py:683(__init__)\n",
      "        1    0.000    0.000    0.299    0.299 /Users/arllanos/repos/other/challenge_DE/.venv/lib/python3.9/site-packages/pandas/core/internals/construction.py:506(nested_data_to_arrays)\n",
      "        1    0.001    0.001    0.299    0.299 /Users/arllanos/repos/other/challenge_DE/.venv/lib/python3.9/site-packages/pandas/core/internals/construction.py:793(to_arrays)\n",
      "        1    0.010    0.010    0.245    0.245 /Users/arllanos/repos/other/challenge_DE/.venv/lib/python3.9/site-packages/pandas/io/json/_json.py:1460(_try_convert_types)\n",
      "        1    0.000    0.000    0.229    0.229 /Users/arllanos/repos/other/challenge_DE/.venv/lib/python3.9/site-packages/pandas/io/json/_json.py:827(__init__)\n",
      "        1    0.000    0.000    0.229    0.229 /Users/arllanos/repos/other/challenge_DE/.venv/lib/python3.9/site-packages/pandas/io/json/_json.py:907(_preprocess_data)\n",
      "\n",
      "\n"
     ]
    }
   ],
   "source": [
    "time_profiling.run(q3_time, file_path, 15)"
   ]
  },
  {
   "cell_type": "code",
   "execution_count": 18,
   "metadata": {},
   "outputs": [
    {
     "name": "stdout",
     "output_type": "stream",
     "text": [
      "Sun Feb 18 20:32:32 2024    profiling/time_cprofile_results_q3_memory.bin\n",
      "\n",
      "         11998762 function calls (11725554 primitive calls) in 8.669 seconds\n",
      "\n",
      "   Ordered by: cumulative time\n",
      "   List reduced from 862 to 15 due to restriction <15>\n",
      "\n",
      "   ncalls  tottime  percall  cumtime  percall filename:lineno(function)\n",
      "        1    0.000    0.000    8.669    8.669 {built-in method builtins.exec}\n",
      "        1    0.001    0.001    8.669    8.669 <string>:1(<module>)\n",
      "        1    0.356    0.356    8.668    8.668 /Users/arllanos/repos/other/challenge_DE/src/q3_memory.py:5(q3_memory)\n",
      "      471    0.400    0.001    5.157    0.011 /Users/arllanos/repos/other/challenge_DE/.venv/lib/python3.9/site-packages/pandas/io/json/_json.py:1085(__next__)\n",
      "      470    0.002    0.000    4.601    0.010 /Users/arllanos/repos/other/challenge_DE/.venv/lib/python3.9/site-packages/pandas/io/json/_json.py:1033(_get_object_parser)\n",
      "      470    0.002    0.000    4.598    0.010 /Users/arllanos/repos/other/challenge_DE/.venv/lib/python3.9/site-packages/pandas/io/json/_json.py:1185(parse)\n",
      "      470    0.178    0.000    2.237    0.005 /Users/arllanos/repos/other/challenge_DE/.venv/lib/python3.9/site-packages/pandas/io/json/_json.py:1394(_parse)\n",
      "      470    0.000    0.000    2.023    0.004 /Users/arllanos/repos/other/challenge_DE/.venv/lib/python3.9/site-packages/pandas/core/series.py:6284(add)\n",
      "      470    0.007    0.000    2.022    0.004 /Users/arllanos/repos/other/challenge_DE/.venv/lib/python3.9/site-packages/pandas/core/series.py:6219(_flex_method)\n",
      "      470    0.004    0.000    2.013    0.004 /Users/arllanos/repos/other/challenge_DE/.venv/lib/python3.9/site-packages/pandas/core/series.py:6148(_binop)\n",
      "      470    0.007    0.000    1.965    0.004 /Users/arllanos/repos/other/challenge_DE/.venv/lib/python3.9/site-packages/pandas/core/generic.py:10179(align)\n",
      "      470    0.002    0.000    1.955    0.004 /Users/arllanos/repos/other/challenge_DE/.venv/lib/python3.9/site-packages/pandas/core/generic.py:10529(_align_series)\n",
      "      940    0.001    0.000    1.945    0.002 /Users/arllanos/repos/other/challenge_DE/.venv/lib/python3.9/site-packages/pandas/core/indexes/base.py:269(join)\n",
      "      940    0.005    0.000    1.944    0.002 /Users/arllanos/repos/other/challenge_DE/.venv/lib/python3.9/site-packages/pandas/core/indexes/base.py:4554(join)\n",
      "      470    0.010    0.000    1.890    0.004 /Users/arllanos/repos/other/challenge_DE/.venv/lib/python3.9/site-packages/pandas/io/json/_json.py:1460(_try_convert_types)\n",
      "\n",
      "\n"
     ]
    }
   ],
   "source": [
    "time_profiling.run(q3_memory, file_path, 15)"
   ]
  },
  {
   "cell_type": "markdown",
   "metadata": {},
   "source": [
    "## Memory Profiling with Memray\n",
    "Si bien Memray puede proporcionar diferentes tipos de reportes, por simplicidad en este challenge se utiliza `stats`, el cual provee high level stats del uso de memoria. Si se desea analizar el uso de memoria desde otra perspectiva se pueden generar otro tipos de reporte a partir del archivo generado en el directorio `profiling/`.\n",
    "\n",
    "Ejemplo para generar `html` con representacion visual flamegraph:\n",
    "1. Generar bin file para q1_memory\n",
    "    ```bash\n",
    "    FUNC=q1_memory\n",
    "    FILE_PATH=data/farmers-protest-tweets-2021-2-4.json\n",
    "    python3 -m memray run src/profiling/memory_profiling.py $FUNC $FILE_PATH\n",
    "    ```\n",
    "1. Generar flamegraph\n",
    "    ```bash\n",
    "    # reemplazar `path/to/bin/file` con el bin file generado en el punto anterior\n",
    "    python3 -m memray flamegraph path/to/bin/file\n",
    "    ```\n",
    "\n",
    "El reporte `stats` generado incluye lo siguiente.\n",
    "\n",
    "📏 **Total allocations**: Indica el número total de veces que se reservó memoria durante la ejecución del script.\n",
    "\n",
    "📦 **Total memory allocated**: Muestra la cantidad total de memoria asignada durante la ejecución, lo cual es crucial para entender la demanda de memoria del script.\n",
    "\n",
    "📊 **Histogram of allocation size**: Este histograma ofrece una vista rápida de los rangos de tamaño de las asignaciones de memoria, lo que ayuda a identificar si la mayoría de las asignaciones son grandes o pequeñas.\n",
    "\n",
    "📂 **Allocator type distribution**: Esta sección desglosa el tipo de asignaciones de memoria (como MALLOC, MMAP, etc.) utilizadas en el script, proporcionando una idea de las operaciones de memoria subyacentes.\n",
    "\n",
    "🥇 **Top 5 largest allocating locations (by size)** y 🥇 **Top 5 largest allocating locations (by number of allocations)**: Aquí se destacan las funciones o líneas de código que más memoria asignan, tanto en términos de tamaño como de cantidad de asignaciones, importante para identificar partes del código que pueden ser optimizadas en el uso de la memoria.\n",
    "\n",
    "**NOTA**: Memray stats crea el reporte en profiling/memray_stats.ans. Este archivo incluye códigos ANSI, por lo tanto, opcionalmente, puedes usar una extensión compatible, como \"ANSI Colors\" en VSCode, para una mejor visualización."
   ]
  },
  {
   "cell_type": "code",
   "execution_count": 19,
   "metadata": {},
   "outputs": [
    {
     "data": {
      "text/html": [
       "<a href=\"/Users/arllanos/repos/other/challenge_DE/src/profiling/memray-memory_profiling_stats.ans\" target=\"_blank\">Open Memray Profiling Output</a>"
      ],
      "text/plain": [
       "<IPython.core.display.HTML object>"
      ]
     },
     "metadata": {},
     "output_type": "display_data"
    }
   ],
   "source": [
    "output_file = f\"{project_root}/src/profiling/memray-memory_profiling_stats.ans\"\n",
    "\n",
    "# Run the profiling scripts and direct output to the file\n",
    "!{project_root}/src/profiling/memory_profiling.sh q1_time {file_path} > {output_file} 2>&1\n",
    "!{project_root}/src/profiling/memory_profiling.sh q1_memory {file_path} >> {output_file} 2>&1\n",
    "!{project_root}/src/profiling/memory_profiling.sh q2_time {file_path} >> {output_file} 2>&1\n",
    "!{project_root}/src/profiling/memory_profiling.sh q2_memory {file_path} >> {output_file} 2>&1\n",
    "!{project_root}/src/profiling/memory_profiling.sh q3_time {file_path} >> {output_file} 2>&1\n",
    "!{project_root}/src/profiling/memory_profiling.sh q3_memory {file_path} >> {output_file} 2>&1\n",
    "\n",
    "# Generate a clickable link to the output file\n",
    "from IPython.display import display, HTML\n",
    "link = f'<a href=\"{output_file}\" target=\"_blank\">Open Memray Profiling Output</a>'\n",
    "display(HTML(link))"
   ]
  },
  {
   "cell_type": "code",
   "execution_count": null,
   "metadata": {},
   "outputs": [],
   "source": []
  }
 ],
 "metadata": {
  "kernelspec": {
   "display_name": ".venv",
   "language": "python",
   "name": "python3"
  },
  "language_info": {
   "codemirror_mode": {
    "name": "ipython",
    "version": 3
   },
   "file_extension": ".py",
   "mimetype": "text/x-python",
   "name": "python",
   "nbconvert_exporter": "python",
   "pygments_lexer": "ipython3",
   "version": "3.9.16"
  },
  "orig_nbformat": 4
 },
 "nbformat": 4,
 "nbformat_minor": 2
}
